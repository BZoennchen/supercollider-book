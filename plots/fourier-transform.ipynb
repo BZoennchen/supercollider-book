{
 "cells": [
  {
   "cell_type": "code",
   "execution_count": null,
   "metadata": {},
   "outputs": [],
   "source": [
    "import librosa\n",
    "import librosa.display\n",
    "import numpy as np\n",
    "import scipy as sp\n",
    "import IPython.display as ipd\n",
    "import matplotlib.pyplot as plt\n",
    "import seaborn as sns\n"
   ]
  },
  {
   "cell_type": "code",
   "execution_count": null,
   "metadata": {},
   "outputs": [],
   "source": [
    "dpi = 300\n",
    "transparent = True\n",
    "PI = np.pi\n",
    "TWO_PI = 2*PI\n",
    "NUM = 44000\n",
    "show = False\n",
    "\n",
    "sns.set_theme('paper')\n",
    "sns.set_style(\"whitegrid\")"
   ]
  },
  {
   "cell_type": "code",
   "execution_count": null,
   "metadata": {},
   "outputs": [],
   "source": [
    "audio_path = '../sounds/Piano.ff.A0.wav'\n",
    "ipd.Audio(audio_path)"
   ]
  },
  {
   "cell_type": "code",
   "execution_count": null,
   "metadata": {},
   "outputs": [],
   "source": [
    "signal, sr = librosa.load(audio_path)\n",
    "print(f'sample rate: {sr}')"
   ]
  },
  {
   "cell_type": "code",
   "execution_count": null,
   "metadata": {},
   "outputs": [],
   "source": [
    "signal, sr = librosa.load(audio_path)\n",
    "plt.figure(figsize=(10,5))\n",
    "librosa.display.waveshow(signal, sr=sr, alpha = 0.5)\n",
    "plt.show()"
   ]
  },
  {
   "cell_type": "code",
   "execution_count": null,
   "metadata": {},
   "outputs": [],
   "source": [
    "ft = sp.fft.fft(signal)\n",
    "magnitude = np.absolute(ft)\n",
    "frequency = np.linspace(0, sr, len(magnitude))\n",
    "\n",
    "plt.figure(figsize=(10,5))\n",
    "plt.plot(frequency[:10000], magnitude[:10000]/len(magnitude)*2)\n",
    "plt.xticks(np.array([1,2,3,4,5,6,7,8,9,10,11,12]) * 220)\n",
    "plt.xlim(0, 1600)\n",
    "plt.xlabel('Frequency (Hz)')\n",
    "plt.ylabel('Magnitude')\n",
    "plt.show()"
   ]
  },
  {
   "cell_type": "code",
   "execution_count": null,
   "metadata": {},
   "outputs": [],
   "source": [
    "audio_path = '../sounds/sine-waves.wav'\n",
    "ipd.Audio(audio_path)"
   ]
  },
  {
   "cell_type": "code",
   "execution_count": null,
   "metadata": {},
   "outputs": [],
   "source": [
    "signal, sr = librosa.load(audio_path)\n",
    "plt.figure(figsize=(10,5))\n",
    "librosa.display.waveshow(signal, sr=sr, alpha = 0.5)\n",
    "plt.xlim(0, 0.04)\n",
    "plt.show()"
   ]
  },
  {
   "cell_type": "code",
   "execution_count": null,
   "metadata": {},
   "outputs": [],
   "source": [
    "ft = sp.fft.fft(signal)\n",
    "magnitude = np.absolute(ft)\n",
    "frequency = np.linspace(0, sr, len(magnitude))\n",
    "\n",
    "plt.figure(figsize=(10,5))\n",
    "plt.plot(frequency[:2000], magnitude[:2000]/len(magnitude)*2)\n",
    "plt.xticks(np.array([1,2,3,4,5,6,7,8,9,10,11,12]) * 220)\n",
    "plt.xlabel('Frequency (Hz)')\n",
    "plt.ylabel('Magnitude')\n",
    "plt.show()"
   ]
  },
  {
   "cell_type": "code",
   "execution_count": null,
   "metadata": {},
   "outputs": [],
   "source": []
  }
 ],
 "metadata": {
  "kernelspec": {
   "display_name": "Python 3.10.8 ('librosa')",
   "language": "python",
   "name": "python3"
  },
  "language_info": {
   "codemirror_mode": {
    "name": "ipython",
    "version": 3
   },
   "file_extension": ".py",
   "mimetype": "text/x-python",
   "name": "python",
   "nbconvert_exporter": "python",
   "pygments_lexer": "ipython3",
   "version": "3.10.8 | packaged by conda-forge | (main, Nov 22 2022, 08:25:29) [Clang 14.0.6 ]"
  },
  "orig_nbformat": 4,
  "vscode": {
   "interpreter": {
    "hash": "fceab9a638232bbe0dcc0e1ffaa7be0cdfeb249afa99d3f2b1b085047aa2acbb"
   }
  }
 },
 "nbformat": 4,
 "nbformat_minor": 2
}
