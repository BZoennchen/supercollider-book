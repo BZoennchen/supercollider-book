{
 "cells": [
  {
   "cell_type": "code",
   "execution_count": null,
   "metadata": {},
   "outputs": [],
   "source": [
    "import numpy as np\n",
    "import scipy.integrate as integrate\n",
    "import scipy.special as special\n",
    "from scipy.integrate import quad\n",
    "import matplotlib.pyplot as plt\n",
    "import scipy.special\n",
    "import seaborn as sns\n",
    "from scipy.integrate import cumtrapz\n",
    "from mpl_toolkits import mplot3d\n",
    "\n",
    "dpi = 300\n",
    "transparent = True\n",
    "PI = np.pi\n",
    "TWO_PI = 2*PI\n",
    "NUM = 44000\n",
    "show = False\n",
    "\n",
    "sns.set_theme('paper')\n",
    "sns.set_style(\"whitegrid\")"
   ]
  },
  {
   "cell_type": "code",
   "execution_count": null,
   "metadata": {},
   "outputs": [],
   "source": [
    "fig = plt.figure(figsize=(12,4))\n",
    "ax = plt.axes(projection=\"3d\")\n",
    "\n",
    "phi = np.pi/2.0\n",
    "t = np.linspace(0, 2*np.pi, 1000)\n",
    "x = np.cos(2*np.pi*t + phi)\n",
    "y = np.sin(2*np.pi*t + phi)\n",
    "ax.plot3D(t, x, y);\n",
    "\n",
    "t = np.linspace(0, 2*np.pi, 20)\n",
    "x = np.cos(2*np.pi*t + phi)\n",
    "y = np.sin(2*np.pi*t + phi)\n",
    "ax.scatter3D(t, x, y, color='red');\n",
    "ax.set_xticks([])\n",
    "ax.set_yticks([])\n",
    "ax.set_zticks([])\n",
    "fig.savefig('../figs/sounddesign/math/phasor_function.jpeg', bbox_inches='tight', transparent=transparent, pad_inches=0, dpi=dpi)"
   ]
  },
  {
   "cell_type": "code",
   "execution_count": null,
   "metadata": {},
   "outputs": [],
   "source": [
    "fig = plt.figure(figsize=(12,4))\n",
    "ax = plt.axes(projection=\"3d\")\n",
    "\n",
    "phi = np.pi/2.0\n",
    "t = np.linspace(0, 4, 1000)\n",
    "x = np.cos(2*np.pi*t + phi) + 2 * np.cos(3*np.pi*t + phi/2) + 0.2 * np.cos(np.pi*t)\n",
    "y = np.sin(2*np.pi*t + phi) + 2 * np.sin(3*np.pi*t + phi/2) + 0.2 * np.sin(np.pi*t)\n",
    "ax.plot3D(t, x, y);\n",
    "\n",
    "t = np.linspace(0, 4, 20)\n",
    "x = np.cos(2*np.pi*t + phi) + 2 * np.cos(3*np.pi*t + phi/2) + 0.2 * np.cos(np.pi*t)\n",
    "y = np.sin(2*np.pi*t + phi) + 2 * np.sin(3*np.pi*t + phi/2) + 0.2 * np.sin(np.pi*t)\n",
    "ax.scatter3D(t, x, y, color='red');\n",
    "ax.set_xticks([])\n",
    "ax.set_yticks([])\n",
    "ax.set_zticks([])\n",
    "fig.savefig('../figs/sounddesign/math/phasor_complex_function.jpeg', bbox_inches='tight', transparent=transparent, pad_inches=0, dpi=dpi)"
   ]
  },
  {
   "cell_type": "code",
   "execution_count": null,
   "metadata": {},
   "outputs": [],
   "source": []
  }
 ],
 "metadata": {
  "kernelspec": {
   "display_name": "Python 3.10.8 ('librosa')",
   "language": "python",
   "name": "python3"
  },
  "language_info": {
   "codemirror_mode": {
    "name": "ipython",
    "version": 3
   },
   "file_extension": ".py",
   "mimetype": "text/x-python",
   "name": "python",
   "nbconvert_exporter": "python",
   "pygments_lexer": "ipython3",
   "version": "3.10.8"
  },
  "orig_nbformat": 4,
  "vscode": {
   "interpreter": {
    "hash": "fceab9a638232bbe0dcc0e1ffaa7be0cdfeb249afa99d3f2b1b085047aa2acbb"
   }
  }
 },
 "nbformat": 4,
 "nbformat_minor": 2
}
