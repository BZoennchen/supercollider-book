{
 "cells": [
  {
   "cell_type": "code",
   "execution_count": null,
   "metadata": {},
   "outputs": [],
   "source": [
    "import numpy as np\n",
    "import scipy.integrate as integrate\n",
    "import scipy.special as special\n",
    "from scipy.integrate import quad\n",
    "import matplotlib.pyplot as plt\n",
    "import scipy.special\n",
    "import seaborn as sns\n",
    "from scipy.integrate import cumtrapz\n",
    "from mpl_toolkits import mplot3d\n",
    "\n",
    "dpi = 300\n",
    "transparent = True\n",
    "PI = np.pi\n",
    "TWO_PI = 2*PI\n",
    "NUM = 44000\n",
    "show = False\n",
    "\n",
    "sns.set_theme('paper')\n",
    "sns.set_style(\"whitegrid\")"
   ]
  },
  {
   "cell_type": "code",
   "execution_count": null,
   "metadata": {},
   "outputs": [],
   "source": [
    "r = np.arange(0, 1.05, 0.05)\n",
    "r2 = np.arange(0, 1.05, 0.01)\n",
    "theta = 2 * np.pi * r\n",
    "\n",
    "fig, ax = plt.subplots(figsize=(5,5), subplot_kw={'projection': 'polar'})\n",
    "ax.scatter(theta, np.ones(len(r)), marker='o')\n",
    "#ax.plot([0, np.pi/4-0.2], [0, 1.0], color='r')\n",
    "\n",
    "ax.plot(2*np.pi*r2, np.ones(len(r2)), color='r')\n",
    "#ax.fill_between(2*np.pi*r, 0, np.ones(len(r))*1.5, color='b', alpha = 0.3)\n",
    "\n",
    "ax.set_rmax(1.5)\n",
    "ax.set_xticks([0, np.pi/4, 2*np.pi/4, 3*np.pi/4, 4*np.pi/4, 5*np.pi/4, 6*np.pi/4, 7*np.pi/4 ])\n",
    "ax.set_xticklabels([r'0', r'', r'$1/2\\pi$', r'', r'$\\pi$', r'', r'$3/2\\pi$', ''])\n",
    "ax.set_rticks([0, 0.5, 1, 1.5])  # Less radial ticks\n",
    "ax.set_yticklabels([r'', '', '', ''])  # Less radial ticks\n",
    "ax.text(0,1.05,r'$1$')\n",
    "ax.text(np.pi,1.2,r'$-1$')\n",
    "\n",
    "ax.text(np.pi/2,1.05,r'$i$')\n",
    "ax.text(np.pi*3/2,1.1,r'$-i$')\n",
    "\n",
    "ax.text(np.pi/2+0.05,1.8,r'Im',size=20)\n",
    "ax.text(0,1.8,r'Re',size=20)\n",
    "#ax.set_rlabel_position(-22.5)  # Move radial labels away from plotted line\n",
    "\n",
    "ax.grid(True);"
   ]
  },
  {
   "cell_type": "code",
   "execution_count": null,
   "metadata": {},
   "outputs": [],
   "source": [
    "fig = plt.figure(figsize=(12,4))\n",
    "ax = plt.axes(projection=\"3d\")\n",
    "\n",
    "phi = np.pi/2.0\n",
    "t = np.linspace(0, 2*np.pi, 1000)\n",
    "x = np.cos(2*np.pi*t + phi)\n",
    "y = np.sin(2*np.pi*t + phi)\n",
    "ax.plot3D(t, x, y);\n",
    "\n",
    "t = np.linspace(0, 2*np.pi, 20)\n",
    "x = np.cos(2*np.pi*t + phi)\n",
    "y = np.sin(2*np.pi*t + phi)\n",
    "ax.scatter3D(t, x, y, color='red');\n",
    "ax.set_xticks([])\n",
    "ax.set_yticks([])\n",
    "ax.set_zticks([])\n",
    "fig.savefig('../figs/sounddesign/math/phasor_function.jpeg', bbox_inches='tight', transparent=transparent, pad_inches=0, dpi=dpi)"
   ]
  },
  {
   "cell_type": "code",
   "execution_count": null,
   "metadata": {},
   "outputs": [],
   "source": [
    "fig = plt.figure(figsize=(12,4))\n",
    "ax = plt.axes(projection=\"3d\")\n",
    "\n",
    "phi = np.pi/2.0\n",
    "t = np.linspace(0, 4, 1000)\n",
    "x = np.cos(2*np.pi*t + phi) + 2 * np.cos(3*np.pi*t + phi/2) + 0.2 * np.cos(np.pi*t)\n",
    "y = np.sin(2*np.pi*t + phi) + 2 * np.sin(3*np.pi*t + phi/2) + 0.2 * np.sin(np.pi*t)\n",
    "ax.plot3D(t, x, y);\n",
    "\n",
    "t = np.linspace(0, 4, 20)\n",
    "x = np.cos(2*np.pi*t + phi) + 2 * np.cos(3*np.pi*t + phi/2) + 0.2 * np.cos(np.pi*t)\n",
    "y = np.sin(2*np.pi*t + phi) + 2 * np.sin(3*np.pi*t + phi/2) + 0.2 * np.sin(np.pi*t)\n",
    "ax.scatter3D(t, x, y, color='red');\n",
    "ax.set_xticks([])\n",
    "ax.set_yticks([])\n",
    "ax.set_zticks([])\n",
    "fig.savefig('../figs/sounddesign/math/phasor_complex_function.jpeg', bbox_inches='tight', transparent=transparent, pad_inches=0, dpi=dpi)"
   ]
  },
  {
   "cell_type": "code",
   "execution_count": null,
   "metadata": {},
   "outputs": [],
   "source": []
  }
 ],
 "metadata": {
  "kernelspec": {
   "display_name": "Python 3.10.8 ('librosa')",
   "language": "python",
   "name": "python3"
  },
  "language_info": {
   "codemirror_mode": {
    "name": "ipython",
    "version": 3
   },
   "file_extension": ".py",
   "mimetype": "text/x-python",
   "name": "python",
   "nbconvert_exporter": "python",
   "pygments_lexer": "ipython3",
   "version": "3.10.8"
  },
  "orig_nbformat": 4,
  "vscode": {
   "interpreter": {
    "hash": "fceab9a638232bbe0dcc0e1ffaa7be0cdfeb249afa99d3f2b1b085047aa2acbb"
   }
  }
 },
 "nbformat": 4,
 "nbformat_minor": 2
}
