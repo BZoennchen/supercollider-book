{
 "cells": [
  {
   "cell_type": "code",
   "execution_count": null,
   "metadata": {},
   "outputs": [],
   "source": [
    "import numpy as np\n",
    "import scipy.integrate as integrate\n",
    "import scipy.special as special\n",
    "from scipy.integrate import quad\n",
    "import matplotlib.pyplot as plt\n",
    "import scipy.special\n",
    "import seaborn as sns\n",
    "from scipy.integrate import cumtrapz\n",
    "\n",
    "dpi = 300\n",
    "transparent = True\n",
    "PI = np.pi\n",
    "TWO_PI = 2*PI\n",
    "NUM = 44000\n",
    "show = False\n",
    "\n",
    "sns.set_theme('paper')\n",
    "sns.set_style(\"whitegrid\")"
   ]
  },
  {
   "cell_type": "code",
   "execution_count": null,
   "metadata": {},
   "outputs": [],
   "source": [
    "r = np.arange(0, 1, 0.01)\n",
    "theta = 2 * np.pi * r\n",
    "\n",
    "fig, ax = plt.subplots(figsize=(10,5), subplot_kw={'projection': 'polar'})\n",
    "ax.plot(theta, r, marker='o')\n",
    "\n",
    "ax.set_rmax(1)\n",
    "ax.set_rticks([0.25, 0.5, 0.75, 1])  # Less radial ticks\n",
    "ax.set_rlabel_position(-22.5)  # Move radial labels away from plotted line\n",
    "ax.grid(True)"
   ]
  },
  {
   "cell_type": "code",
   "execution_count": null,
   "metadata": {},
   "outputs": [],
   "source": [
    "r = np.arange(0, 1.2, 0.01)\n",
    "theta = 2 * np.pi * r\n",
    "\n",
    "fig, ax = plt.subplots(figsize=(5,5), subplot_kw={'projection': 'polar'})\n",
    "ax.scatter([0], [0], marker='o')\n",
    "ax.scatter([2*np.pi-0.4], [1], marker='x')\n",
    "\n",
    "ax.plot(2*np.pi*r, np.ones(len(r)), color='r')\n",
    "ax.fill_between(2*np.pi*r, 1, np.ones(len(r))*1.5, color='b', alpha = 0.3)\n",
    "\n",
    "ax.set_rmax(1.5)\n",
    "ax.set_xticks([0, np.pi/4, 2*np.pi/4, 3*np.pi/4, 4*np.pi/4, 5*np.pi/4, 6*np.pi/4, 7*np.pi/4 ])\n",
    "ax.set_xticklabels([r'0', r'', r'$1/2\\pi$', r'', r'$\\pi$', r'', r'$3/2\\pi$', ''])\n",
    "ax.set_rticks([0, 0.25, 0.5, 0.75, 1, 1.25, 1.5])  # Less radial ticks\n",
    "ax.set_yticklabels([r'', '', '', '', r'', '', ''])  # Less radial ticks\n",
    "ax.text(-0.35,1,r'$\\alpha$')\n",
    "ax.text(0.35,1.1,r'ROC')\n",
    "ax.set_rlabel_position(-22.5)  # Move radial labels away from plotted line\n",
    "ax.grid(True);"
   ]
  },
  {
   "cell_type": "code",
   "execution_count": null,
   "metadata": {},
   "outputs": [],
   "source": [
    "r = np.arange(0, 1.2, 0.01)\n",
    "theta = 2 * np.pi * r\n",
    "\n",
    "fig, ax = plt.subplots(figsize=(5,5), subplot_kw={'projection': 'polar'})\n",
    "ax.scatter([0,np.pi], [0,1/8], marker='o')\n",
    "ax.scatter([0,np.pi], [1/4,1/2], marker='x')\n",
    "\n",
    "ax.plot(2*np.pi*r, np.ones(len(r))*0.5, color='r')\n",
    "ax.fill_between(2*np.pi*r, 1/2, np.ones(len(r)), color='b', alpha = 0.3)\n",
    "\n",
    "ax.set_rmax(0.75)\n",
    "ax.set_xticks([0, np.pi/4, 2*np.pi/4, 3*np.pi/4, 4*np.pi/4, 5*np.pi/4, 6*np.pi/4, 7*np.pi/4 ])\n",
    "ax.set_xticklabels([r'0', r'', r'$1/2\\pi$', r'', r'$\\pi$', r'', r'$3/2\\pi$', ''])\n",
    "ax.set_rticks(np.array([0, 0.25, 0.5, 0.75]))  # Less radial ticks\n",
    "ax.set_yticklabels([r'', '', '', ''])  # Less radial ticks\n",
    "ax.set_rlabel_position(-22.5)  # Move radial labels away from plotted line\n",
    "ax.text(np.pi+0.3,1/8*2,r'-1/8')\n",
    "ax.text(np.pi+0.15,1/2,r'-1/2')\n",
    "ax.text(-0.15*2,1/4,r'1/4')\n",
    "ax.grid(True);"
   ]
  },
  {
   "cell_type": "code",
   "execution_count": null,
   "metadata": {},
   "outputs": [],
   "source": [
    "r = np.arange(0, 1.2, 0.01)\n",
    "theta = 2 * np.pi * r\n",
    "\n",
    "fig, ax = plt.subplots(figsize=(5,5), subplot_kw={'projection': 'polar'})\n",
    "ax.fill_between(2*np.pi*r, 0, np.ones(len(r))*1.25, color='b', alpha = 0.3)\n",
    "\n",
    "ax.scatter(np.linspace(0, 2*np.pi, 15)[1:-1:], np.ones(15)[1:-1:], marker='o')\n",
    "\n",
    "ax.scatter([0], [0], marker='x')\n",
    "\n",
    "ax.scatter([0], [1.0], marker='+')\n",
    "\n",
    "ax.set_rmax(1.25)\n",
    "ax.set_xticks([0, np.pi/4, 2*np.pi/4, 3*np.pi/4, 4*np.pi/4, 5*np.pi/4, 6*np.pi/4, 7*np.pi/4 ])\n",
    "ax.set_xticklabels([r'0', r'', r'$1/2\\pi$', r'', r'$\\pi$', r'', r'$3/2\\pi$', ''])\n",
    "ax.set_rticks(np.array([0, 0.25, 0.5, 0.75, 1.0, 1.25]))  # Less radial ticks\n",
    "ax.set_yticklabels([r'', '', '', '', '', ''])  # Less radial ticks\n",
    "ax.set_rlabel_position(-22.5)  # Move radial labels away from plotted line\n",
    "ax.text(0,1.05,r'$\\alpha$')\n",
    "ax.grid(True);"
   ]
  },
  {
   "cell_type": "code",
   "execution_count": null,
   "metadata": {},
   "outputs": [],
   "source": []
  }
 ],
 "metadata": {
  "kernelspec": {
   "display_name": "librosa",
   "language": "python",
   "name": "python3"
  },
  "language_info": {
   "codemirror_mode": {
    "name": "ipython",
    "version": 3
   },
   "file_extension": ".py",
   "mimetype": "text/x-python",
   "name": "python",
   "nbconvert_exporter": "python",
   "pygments_lexer": "ipython3",
   "version": "3.10.8"
  },
  "orig_nbformat": 4,
  "vscode": {
   "interpreter": {
    "hash": "fceab9a638232bbe0dcc0e1ffaa7be0cdfeb249afa99d3f2b1b085047aa2acbb"
   }
  }
 },
 "nbformat": 4,
 "nbformat_minor": 2
}
