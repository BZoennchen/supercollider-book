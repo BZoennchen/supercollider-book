{
 "cells": [
  {
   "cell_type": "code",
   "execution_count": null,
   "metadata": {},
   "outputs": [],
   "source": [
    "import numpy as np\n",
    "import scipy.integrate as integrate\n",
    "import scipy.special as special\n",
    "from scipy.integrate import quad\n",
    "import matplotlib.pyplot as plt\n",
    "import scipy.special\n",
    "import seaborn as sns\n",
    "from scipy.integrate import cumtrapz\n",
    "\n",
    "dpi = 300\n",
    "transparent = True\n",
    "PI = np.pi\n",
    "TWO_PI = 2*PI\n",
    "NUM = 44000\n",
    "show = False\n",
    "\n",
    "sns.set_theme('talk')\n",
    "sns.set_style(\"whitegrid\")"
   ]
  },
  {
   "cell_type": "code",
   "execution_count": null,
   "metadata": {},
   "outputs": [],
   "source": [
    "N = 10000\n",
    "x = np.linspace(-1, 1, N)\n",
    "y = lambda x: np.sin(x)*np.sin(x)\n",
    "\n",
    "fig, ax = plt.subplots(2,2,figsize=(20,10))\n",
    "\n",
    "# sin, sin^2\n",
    "ax[0,0].set_xticks(np.arange(-1, 1+0.01, 0.5))\n",
    "ax[0,0].set_xticklabels([])\n",
    "ax[0,0].plot(x, np.sin(2*np.pi*x), label=r'$\\sin(2\\pi t)$')\n",
    "ax[0,0].plot(x, np.sin(2*np.pi*x)*np.sin(2*np.pi*x), label=r'$\\sin(2\\pi t)^2$')\n",
    "ax[0,0].legend()\n",
    "\n",
    "ax[0,1].set_xticks(np.arange(-1, 1+0.01, 0.5))\n",
    "ax[0,1].set_xticklabels([])\n",
    "saw = lambda x: 2 * (x - np.floor(1/2 + x))\n",
    "ax[0,1].plot(x, saw(x), label=r'$y_{saw}(t)$')\n",
    "ax[0,1].plot(x, np.sin(2*np.pi*x)*saw(x), label=r'$y_{saw}(t) \\cdot \\sin(2\\pi t)$')\n",
    "ax[0,1].legend()\n",
    "\n",
    "ax[1,0].set_xticks(np.arange(-1, 1+0.01, 0.5))\n",
    "ax[1,0].set_xticklabels([r'$-1$', r'$-0.5$', r'$0$', r'$0.5$', r'$1$'])\n",
    "ax[1,0].plot(x, np.cos(2*np.pi*x), label=r'$\\cos(2\\pi t)$')\n",
    "ax[1,0].plot(x, np.sin(2*np.pi*x)*np.cos(2*np.pi*x), label=r'$\\cos(2\\pi t) \\cdot \\sin(2\\pi t)$')\n",
    "ax[1,0].legend()\n",
    "\n",
    "ax[1,1].set_xticks(np.arange(-1, 1+0.01, 0.5))\n",
    "ax[1,1].set_xticklabels([r'$-1$', r'$-0.5$', r'$0$', r'$0.5$', r'$1$'])\n",
    "saw = lambda x: np.abs(x)\n",
    "ax[1,1].plot(x, saw(x), label=r'$|x|$')\n",
    "ax[1,1].plot(x, np.sin(2*np.pi*x)*saw(x), label=r'$|x| \\cdot \\sin(2\\pi t)$')\n",
    "ax[1,1].legend()\n",
    "fig.suptitle(r'Product $y(t) \\cdot \\sin(2\\pi t)$ for different $y(t)$.')\n",
    "\n",
    "fig.savefig('../figs/sounddesign/math/sin_product.jpeg', bbox_inches='tight', transparent=transparent, pad_inches=0, dpi=dpi)"
   ]
  },
  {
   "cell_type": "code",
   "execution_count": null,
   "metadata": {},
   "outputs": [],
   "source": [
    "def sawtooth(f, n):\n",
    "    t = np.linspace(0, 1, n)\n",
    "    amp = 2 * (f*t - np.floor(1/2 + f*t))\n",
    "    fig, ax = plt.subplots(figsize=(10,5))\n",
    "    ax.plot(t, amp)\n",
    "    #ax.set_aspect(1.0)\n",
    "sawtooth(1, 100)"
   ]
  },
  {
   "cell_type": "code",
   "execution_count": null,
   "metadata": {},
   "outputs": [],
   "source": [
    "N = 100000\n",
    "n = 8\n",
    "def sawtooth_ap(t, n):\n",
    "    result = 0\n",
    "    for k in range(1, n+1, 1):\n",
    "        result += np.sin(TWO_PI * k * t) / k\n",
    "    return result\n",
    "        \n",
    "t = np.linspace(0, 1, N)\n",
    "amp = sawtooth_ap(t, n)\n",
    "k = int((n+1)**0.5)\n",
    "fig, ax = plt.subplots(k,k,figsize=(20,10))\n",
    "ax[0,0].plot(t, amp)\n",
    "\n",
    "index = 0\n",
    "for i in range(k):\n",
    "    for j in range(k):\n",
    "        if i < k-1:\n",
    "            ax[i,j].set_xticklabels([])\n",
    "        if i != 0 or j != 0:\n",
    "            index += 1\n",
    "            ax[i,j].plot(t, np.sin(TWO_PI * index * t))\n",
    "            y=amp*np.sin(TWO_PI * index * t)\n",
    "            ax[i,j].plot(t, y)\n",
    "            ax[i,j].fill_between(t, cumtrapz(y=y, x=t, initial=0))\n",
    "            print(sum(amp*np.sin(TWO_PI * index * t) / N))\n",
    "            #ax[i,j].axhline(y=sum(amp*np.sin(TWO_PI * index * t) / index / N), linestyle='--')\n",
    "fig.savefig('../figs/sounddesign/math/saw_analysis.jpeg', bbox_inches='tight', transparent=transparent, pad_inches=0, dpi=dpi)\n"
   ]
  },
  {
   "cell_type": "code",
   "execution_count": null,
   "metadata": {},
   "outputs": [],
   "source": [
    "1/19"
   ]
  },
  {
   "cell_type": "code",
   "execution_count": null,
   "metadata": {},
   "outputs": [],
   "source": [
    "N = 100000\n",
    "n = 8\n",
    "        \n",
    "t = np.linspace(0, 1, N)\n",
    "k = int((n+1)**0.5)\n",
    "fig, ax = plt.subplots(k,k,figsize=(20,10))\n",
    "\n",
    "index = 0\n",
    "for i in range(1,k+1):\n",
    "    for j in range(1,k+1):\n",
    "        index += 1\n",
    "        alpha = 0\n",
    "        beta = 0\n",
    "        ax[i-1,j-1].plot(t, np.sin(TWO_PI * (i * t - alpha)), label=f'$i={{{i}}}$', linestyle='--')\n",
    "        ax[i-1,j-1].plot(t, np.sin(TWO_PI * (j * t - beta)), label=f'$j={{{j}}}$', linestyle='--')\n",
    "        ax[i-1,j-1].plot(t, np.sin(TWO_PI * (j * t - beta)) * np.sin(TWO_PI * (i * t - alpha)))\n",
    "        if i < k:\n",
    "            ax[i-1,j-1].set_xticklabels([])\n",
    "        #ax[i-1,j-1].plot(t, cumtrapz(y=np.sin(TWO_PI * (j * t - beta)) * np.sin(TWO_PI * (i * t - alpha)), x=t, initial=0))\n",
    "        #ax[i-1,j-1].legend()\n",
    "        ax[i-1,j-1].set_title(f'$i={{{i}}}, j={{{j}}}$')\n",
    "        #print(sum(np.sin(TWO_PI * (j * t - beta)) * np.sin(TWO_PI * (i * t - alpha))/N))\n",
    "            #ax[i,j].axhline(y=sum(amp*np.sin(TWO_PI * index * t) / index / N), linestyle='--')\n",
    "fig.savefig('../figs/sounddesign/math/sine_perp.jpeg', bbox_inches='tight', transparent=transparent, pad_inches=0, dpi=dpi)"
   ]
  },
  {
   "attachments": {},
   "cell_type": "markdown",
   "metadata": {},
   "source": [
    "# DFT Example 1"
   ]
  },
  {
   "cell_type": "code",
   "execution_count": null,
   "metadata": {},
   "outputs": [],
   "source": [
    "N = 4\n",
    "y1 = lambda t: 2 * np.cos(2*np.pi*t - np.pi/2)\n",
    "y2 = lambda t: 3 * np.cos(4*np.pi*t)\n",
    "dc = lambda t: np.ones(len(t))*5\n",
    "y = lambda t: dc(t) + y1(t) + y2(t)\n",
    "\n",
    "t = np.linspace(0, 2, 1000)\n",
    "n = np.linspace(0, 1, N+1)[:-1]\n",
    "\n",
    "fig, ax = plt.subplots(figsize=(10,5))\n",
    "ax.plot(t, y(t), label=r'$y(t)$')\n",
    "ax.plot(t, y1(t), label=r'1 Hz', linestyle='--')\n",
    "ax.plot(t, y2(t), label=r'2 Hz', linestyle='--')\n",
    "ax.plot(t, dc(t), label=r'dc', linestyle='--')\n",
    "ax.scatter(n, y(n), label=r'$y[n]$', marker='o')\n",
    "ax.legend()\n",
    "fig.savefig('../figs/sounddesign/math/dft_example.jpeg', bbox_inches='tight', transparent=transparent, pad_inches=0, dpi=dpi)"
   ]
  },
  {
   "cell_type": "code",
   "execution_count": null,
   "metadata": {},
   "outputs": [],
   "source": [
    "def dft(y, k):\n",
    "    N = len(y)\n",
    "    result = 0\n",
    "    for n in range(N):\n",
    "        result += y[n] * np.exp(-1j * 2*np.pi/N * n * k)\n",
    "    return result\n",
    "\n",
    "def idft(c, n):\n",
    "    N = len(c)\n",
    "    result = 0\n",
    "    for k in range(N):\n",
    "        result += c[k] * np.exp(1j * 2*np.pi/N * k * n)\n",
    "    return 1/N * result"
   ]
  },
  {
   "cell_type": "code",
   "execution_count": null,
   "metadata": {},
   "outputs": [],
   "source": [
    "y_n = y(n)"
   ]
  },
  {
   "cell_type": "code",
   "execution_count": null,
   "metadata": {},
   "outputs": [],
   "source": [
    "c_k = [dft(y_n, k) for k in range(len(y_n))]\n",
    "c_k"
   ]
  },
  {
   "cell_type": "code",
   "execution_count": null,
   "metadata": {},
   "outputs": [],
   "source": [
    "phases = np.arctan2([val.imag for val in c_k], [val.real for val in c_k])\n",
    "magnitudes = np.abs(np.array(c_k))"
   ]
  },
  {
   "cell_type": "code",
   "execution_count": null,
   "metadata": {},
   "outputs": [],
   "source": [
    "fig, ax = plt.subplots(figsize=(8,3), nrows=1, ncols=2)\n",
    "f = np.array([0, 1, 2, 3])\n",
    "ax[0].scatter(f, magnitudes, label=r'$|c[n]|$')\n",
    "ax[0].set_ylim((0,20.5))\n",
    "ax[0].set_xticks(f)\n",
    "ax[0].set_yticks([0, 5, 10, 15, 20])\n",
    "ax[0].set_xlabel(r'f (Hz)')\n",
    "ax[0].set_ylabel(r'$|c[n]|$');\n",
    "\n",
    "ax[1].scatter(f, phases, label=r'$|c[n]|$')\n",
    "ax[1].set_ylim((-np.pi,np.pi))\n",
    "ax[1].set_xticks(f)\n",
    "ax[1].set_yticks([-np.pi, -3/4 * np.pi, -1/2*np.pi, -1/4*np.pi, 0, 1/4*np.pi, 1/2*np.pi, 3/4 * np.pi, np.pi])\n",
    "ax[1].set_yticklabels([r'$-\\pi$',r'$-3/4\\pi$', r'$-1/2 \\pi$', r'$-1/4 \\pi$', r'0', r'$1/4 \\pi$', r'$1/2 \\pi$', r'$3/4 \\pi$', r'$\\pi$'])\n",
    "ax[1].set_xlabel(r'f (Hz)')\n",
    "ax[1].set_ylabel(r'$\\theta$ (radian)');"
   ]
  },
  {
   "cell_type": "code",
   "execution_count": null,
   "metadata": {},
   "outputs": [],
   "source": [
    "y_app = lambda t: 1/N  * magnitudes[0] + (1/N * magnitudes[1] + 1/N * magnitudes[3]) * np.cos(2 * np.pi * t + phases[1]) + 1/N * magnitudes[2] * np.cos(2 * 2 * np.pi * t + phases[2])"
   ]
  },
  {
   "cell_type": "code",
   "execution_count": null,
   "metadata": {},
   "outputs": [],
   "source": [
    "iy_n = [idft(c_k, n) for n in range(len(c_k))]\n",
    "iy_n"
   ]
  },
  {
   "cell_type": "code",
   "execution_count": null,
   "metadata": {},
   "outputs": [],
   "source": [
    "N = 16\n",
    "f = 3/4\n",
    "f_s = 1/N\n",
    "y_f = lambda k, t: np.sin(k/N * 2 * np.pi * t)\n",
    "y_one = lambda t: 14/N * np.cos(1/N * 2 * np.pi * t + 2.16259125)\n",
    "    \n",
    "y = lambda t: np.sin(f * 2 *np.pi * t / N)\n",
    "y2 = lambda t: np.sin(f * 2 * np.pi * (t%16) / N)\n",
    "t = np.linspace(0, 2*N*4/3, 1000)\n",
    "t2 = np.linspace(0, N, 1000)\n",
    "n = np.linspace(0, N, N+1)[:-1]\n",
    "\n",
    "y_n = y(n)\n",
    "c_k = [dft(y_n, k) for k in range(len(y_n))]\n",
    "\n",
    "iy_n = [idft(c_k, n) for n in range(len(c_k))]\n",
    "iy_n = [val.real for val in iy_n]\n",
    "\n",
    "phases = np.arctan2([val.imag for val in c_k], [val.real for val in c_k])\n",
    "magnitudes = np.abs(np.array(c_k))\n",
    "\n",
    "def idft_fuction(t):\n",
    "    s = 0\n",
    "    for i in range(len(magnitudes)//2):\n",
    "        if i == 0:\n",
    "            s += (1/N * magnitudes[-i]) * np.cos(i/N * 2 * np.pi * t + phases[i])\n",
    "        else:\n",
    "            s += (1/N * magnitudes[i] + 1/N * magnitudes[-i]) * np.cos(i/N * 2 * np.pi * t + phases[i])\n",
    "    \n",
    "    i = len(magnitudes)//2\n",
    "    s +=  (1/N * magnitudes[-i]) * np.cos(i/N * 2 * np.pi * t + phases[i])\n",
    "    return s\n",
    "\n",
    "y_idft = [idft_fuction(ti) for ti in t]\n",
    "\n",
    "fig, ax = plt.subplots(figsize=(10,5))\n",
    "ax.plot(t, y(t), label=r'$y(t)$')\n",
    "ax.plot(t, y2(t), label=r'$y_{dft}(t)$', linestyle='--')\n",
    "ax.scatter(n, y(n), label=r'$y[n]$', marker='o', alpha=0.5)\n",
    "ax.scatter(n, iy_n, label=r'$y_{idft}[n]$', marker='x', c='black')\n",
    "ax.plot(t, y_idft, label=r'$y_{idft}(t)$', c='black')\n",
    "ax.legend()\n",
    "fig.savefig('../figs/sounddesign/math/dft_example.jpeg', bbox_inches='tight', transparent=transparent, pad_inches=0, dpi=dpi)"
   ]
  },
  {
   "cell_type": "code",
   "execution_count": null,
   "metadata": {},
   "outputs": [],
   "source": [
    "len(magnitudes)//2"
   ]
  },
  {
   "cell_type": "code",
   "execution_count": null,
   "metadata": {},
   "outputs": [],
   "source": [
    "y_n = y(n)\n",
    "c_k = [dft(y_n, k) for k in range(len(y_n))]"
   ]
  },
  {
   "cell_type": "code",
   "execution_count": null,
   "metadata": {},
   "outputs": [],
   "source": [
    "fig, ax = plt.subplots(figsize=(10,6), nrows=2, ncols=1, sharex=True)\n",
    "f = np.array([0, 1, 2, 3, 4, 5, 6, 7, 8, 9, 10, 11, 12, 13, 14, 15])\n",
    "ax[0].scatter(f, np.abs(np.array(c_k)), label=r'$|c[n]|$')\n",
    "ax[0].set_ylim((0,7.5))\n",
    "ax[0].set_xticks(f)\n",
    "ax[0].set_yticks([0, 3.5/2, 3.5, 3.5+3.5/2, 7])\n",
    "ax[0].set_ylabel(r'$|c[n]|$')\n",
    "ax[1].scatter(f, np.arctan2([val.imag for val in c_k], [val.real for val in c_k]), label=r'$|c[n]|$')\n",
    "ax[1].set_ylim((-np.pi,np.pi))\n",
    "ax[1].set_xticks(f)\n",
    "ax[1].set_yticks([-np.pi, -3/4 * np.pi, -1/2*np.pi, -1/4*np.pi, 0, 1/4*np.pi, 1/2*np.pi, 3/4 * np.pi, np.pi])\n",
    "ax[1].set_yticklabels([r'$-\\pi$',r'$-3/4\\pi$', r'$-1/2 \\pi$', r'$-1/4 \\pi$', r'0', r'$1/4 \\pi$', r'$1/2 \\pi$', r'$3/4 \\pi$', r'$\\pi$'])\n",
    "ax[1].set_xlabel(r'f (Hz)')\n",
    "ax[1].set_ylabel(r'$\\theta$ (radian)');"
   ]
  },
  {
   "cell_type": "code",
   "execution_count": null,
   "metadata": {},
   "outputs": [],
   "source": [
    "np.arctan2([val.imag for val in c_k], [val.real for val in c_k])"
   ]
  },
  {
   "cell_type": "code",
   "execution_count": null,
   "metadata": {},
   "outputs": [],
   "source": []
  }
 ],
 "metadata": {
  "kernelspec": {
   "display_name": "librosa",
   "language": "python",
   "name": "python3"
  },
  "language_info": {
   "codemirror_mode": {
    "name": "ipython",
    "version": 3
   },
   "file_extension": ".py",
   "mimetype": "text/x-python",
   "name": "python",
   "nbconvert_exporter": "python",
   "pygments_lexer": "ipython3",
   "version": "3.10.8"
  },
  "orig_nbformat": 4,
  "vscode": {
   "interpreter": {
    "hash": "fceab9a638232bbe0dcc0e1ffaa7be0cdfeb249afa99d3f2b1b085047aa2acbb"
   }
  }
 },
 "nbformat": 4,
 "nbformat_minor": 2
}
