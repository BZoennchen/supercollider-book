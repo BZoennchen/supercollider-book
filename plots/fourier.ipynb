{
 "cells": [
  {
   "cell_type": "code",
   "execution_count": null,
   "metadata": {},
   "outputs": [],
   "source": [
    "import numpy as np\n",
    "import scipy.integrate as integrate\n",
    "import scipy.special as special\n",
    "from scipy.integrate import quad\n",
    "import matplotlib.pyplot as plt\n",
    "import scipy.special\n",
    "import seaborn as sns\n",
    "from scipy.integrate import cumtrapz\n",
    "\n",
    "dpi = 300\n",
    "transparent = True\n",
    "PI = np.pi\n",
    "TWO_PI = 2*PI\n",
    "NUM = 44000\n",
    "show = False\n",
    "\n",
    "sns.set_theme('talk')\n",
    "sns.set_style(\"whitegrid\")"
   ]
  },
  {
   "cell_type": "code",
   "execution_count": null,
   "metadata": {},
   "outputs": [],
   "source": [
    "N = 10000\n",
    "x = np.linspace(-1, 1, N)\n",
    "y = lambda x: np.sin(x)*np.sin(x)\n",
    "\n",
    "fig, ax = plt.subplots(2,2,figsize=(20,10))\n",
    "\n",
    "# sin, sin^2\n",
    "ax[0,0].set_xticks(np.arange(-1, 1+0.01, 0.5))\n",
    "ax[0,0].set_xticklabels([])\n",
    "ax[0,0].plot(x, np.sin(2*np.pi*x), label=r'$\\sin(2\\pi t)$')\n",
    "ax[0,0].plot(x, np.sin(2*np.pi*x)*np.sin(2*np.pi*x), label=r'$\\sin(2\\pi t)^2$')\n",
    "ax[0,0].legend()\n",
    "\n",
    "ax[0,1].set_xticks(np.arange(-1, 1+0.01, 0.5))\n",
    "ax[0,1].set_xticklabels([])\n",
    "saw = lambda x: 2 * (x - np.floor(1/2 + x))\n",
    "ax[0,1].plot(x, saw(x), label=r'$y_{saw}(t)$')\n",
    "ax[0,1].plot(x, np.sin(2*np.pi*x)*saw(x), label=r'$y_{saw}(t) \\cdot \\sin(2\\pi t)$')\n",
    "ax[0,1].legend()\n",
    "\n",
    "ax[1,0].set_xticks(np.arange(-1, 1+0.01, 0.5))\n",
    "ax[1,0].set_xticklabels([r'$-1$', r'$-0.5$', r'$0$', r'$0.5$', r'$1$'])\n",
    "ax[1,0].plot(x, np.cos(2*np.pi*x), label=r'$\\cos(2\\pi t)$')\n",
    "ax[1,0].plot(x, np.sin(2*np.pi*x)*np.cos(2*np.pi*x), label=r'$\\cos(2\\pi t) \\cdot \\sin(2\\pi t)$')\n",
    "ax[1,0].legend()\n",
    "\n",
    "ax[1,1].set_xticks(np.arange(-1, 1+0.01, 0.5))\n",
    "ax[1,1].set_xticklabels([r'$-1$', r'$-0.5$', r'$0$', r'$0.5$', r'$1$'])\n",
    "saw = lambda x: np.abs(x)\n",
    "ax[1,1].plot(x, saw(x), label=r'$|x|$')\n",
    "ax[1,1].plot(x, np.sin(2*np.pi*x)*saw(x), label=r'$|x| \\cdot \\sin(2\\pi t)$')\n",
    "ax[1,1].legend()\n",
    "fig.suptitle(r'Product $y(t) \\cdot \\sin(2\\pi t)$ for different $y(t)$.')\n",
    "\n",
    "fig.savefig('../figs/sounddesign/math/sin_product.jpeg', bbox_inches='tight', transparent=transparent, pad_inches=0, dpi=dpi)"
   ]
  },
  {
   "cell_type": "code",
   "execution_count": null,
   "metadata": {},
   "outputs": [],
   "source": [
    "def sawtooth(f, n):\n",
    "    t = np.linspace(0, 1, n)\n",
    "    amp = 2 * (f*t - np.floor(1/2 + f*t))\n",
    "    fig, ax = plt.subplots(figsize=(10,5))\n",
    "    ax.plot(t, amp)\n",
    "    #ax.set_aspect(1.0)\n",
    "sawtooth(1, 100)"
   ]
  },
  {
   "cell_type": "code",
   "execution_count": null,
   "metadata": {},
   "outputs": [],
   "source": [
    "N = 100000\n",
    "n = 8\n",
    "def sawtooth_ap(t, n):\n",
    "    result = 0\n",
    "    for k in range(1, n+1, 1):\n",
    "        result += np.sin(TWO_PI * k * t) / k\n",
    "    return result\n",
    "        \n",
    "t = np.linspace(0, 1, N)\n",
    "amp = sawtooth_ap(t, n)\n",
    "k = int((n+1)**0.5)\n",
    "fig, ax = plt.subplots(k,k,figsize=(20,10))\n",
    "ax[0,0].plot(t, amp)\n",
    "\n",
    "index = 0\n",
    "for i in range(k):\n",
    "    for j in range(k):\n",
    "        if i < k-1:\n",
    "            ax[i,j].set_xticklabels([])\n",
    "        if i != 0 or j != 0:\n",
    "            index += 1\n",
    "            ax[i,j].plot(t, np.sin(TWO_PI * index * t))\n",
    "            y=amp*np.sin(TWO_PI * index * t)\n",
    "            ax[i,j].plot(t, y)\n",
    "            ax[i,j].fill_between(t, cumtrapz(y=y, x=t, initial=0))\n",
    "            print(sum(amp*np.sin(TWO_PI * index * t) / N))\n",
    "            #ax[i,j].axhline(y=sum(amp*np.sin(TWO_PI * index * t) / index / N), linestyle='--')\n",
    "fig.savefig('../figs/sounddesign/math/saw_analysis.jpeg', bbox_inches='tight', transparent=transparent, pad_inches=0, dpi=dpi)\n"
   ]
  },
  {
   "cell_type": "code",
   "execution_count": null,
   "metadata": {},
   "outputs": [],
   "source": [
    "1/19"
   ]
  },
  {
   "cell_type": "code",
   "execution_count": null,
   "metadata": {},
   "outputs": [],
   "source": [
    "N = 100000\n",
    "n = 8\n",
    "        \n",
    "t = np.linspace(0, 1, N)\n",
    "k = int((n+1)**0.5)\n",
    "fig, ax = plt.subplots(k,k,figsize=(20,10))\n",
    "\n",
    "index = 0\n",
    "for i in range(1,k+1):\n",
    "    for j in range(1,k+1):\n",
    "        index += 1\n",
    "        alpha = 0\n",
    "        beta = 0\n",
    "        ax[i-1,j-1].plot(t, np.sin(TWO_PI * (i * t - alpha)), label=f'$i={{{i}}}$', linestyle='--')\n",
    "        ax[i-1,j-1].plot(t, np.sin(TWO_PI * (j * t - beta)), label=f'$j={{{j}}}$', linestyle='--')\n",
    "        ax[i-1,j-1].plot(t, np.sin(TWO_PI * (j * t - beta)) * np.sin(TWO_PI * (i * t - alpha)))\n",
    "        if i < k:\n",
    "            ax[i-1,j-1].set_xticklabels([])\n",
    "        #ax[i-1,j-1].plot(t, cumtrapz(y=np.sin(TWO_PI * (j * t - beta)) * np.sin(TWO_PI * (i * t - alpha)), x=t, initial=0))\n",
    "        #ax[i-1,j-1].legend()\n",
    "        ax[i-1,j-1].set_title(f'$i={{{i}}}, j={{{j}}}$')\n",
    "        #print(sum(np.sin(TWO_PI * (j * t - beta)) * np.sin(TWO_PI * (i * t - alpha))/N))\n",
    "            #ax[i,j].axhline(y=sum(amp*np.sin(TWO_PI * index * t) / index / N), linestyle='--')\n",
    "fig.savefig('../figs/sounddesign/math/sine_perp.jpeg', bbox_inches='tight', transparent=transparent, pad_inches=0, dpi=dpi)"
   ]
  },
  {
   "cell_type": "code",
   "execution_count": null,
   "metadata": {},
   "outputs": [],
   "source": [
    "y1 = lambda t: 2 * np.cos(2*np.pi*t - np.pi/2)\n",
    "y2 = lambda t: 3 * np.cos(4*np.pi*t)\n",
    "dc = lambda t: np.ones(len(t))*5\n",
    "y = lambda t: dc(t) + y1(t) + y2(t)\n",
    "\n",
    "t = np.linspace(0, 2, 1000)\n",
    "n = np.linspace(0, 1, 5)[:-1]\n",
    "\n",
    "fig, ax = plt.subplots(figsize=(10,5))\n",
    "ax.plot(t, y(t), label=r'$y(t)$')\n",
    "ax.plot(t, y1(t), label=r'1 Hz', linestyle='--')\n",
    "ax.plot(t, y2(t), label=r'2 Hz', linestyle='--')\n",
    "ax.plot(t, dc(t), label=r'dc', linestyle='--')\n",
    "ax.scatter(n, y(n), label=r'$y[n]$', marker='o')\n",
    "ax.legend()\n",
    "fig.savefig('../figs/sounddesign/math/dft_example.jpeg', bbox_inches='tight', transparent=transparent, pad_inches=0, dpi=dpi)"
   ]
  },
  {
   "cell_type": "code",
   "execution_count": null,
   "metadata": {},
   "outputs": [],
   "source": [
    "def dft(y, k):\n",
    "    N = len(y)\n",
    "    result = 0\n",
    "    for n in range(N):\n",
    "        result += y[n] * np.exp(-1j * 2*np.pi/N * n * k)\n",
    "    return result\n",
    "\n",
    "def idft(c, n):\n",
    "    N = len(c)\n",
    "    result = 0\n",
    "    for k in range(N):\n",
    "        result += c[k] * np.exp(1j * 2*np.pi/N * k * n)\n",
    "    return 1/N * result"
   ]
  },
  {
   "cell_type": "code",
   "execution_count": null,
   "metadata": {},
   "outputs": [],
   "source": [
    "y_n = y(n)"
   ]
  },
  {
   "cell_type": "code",
   "execution_count": null,
   "metadata": {},
   "outputs": [],
   "source": [
    "c_k = [dft(y_n, k) for k in range(len(y_n))]\n",
    "c_k"
   ]
  },
  {
   "cell_type": "code",
   "execution_count": null,
   "metadata": {},
   "outputs": [],
   "source": [
    "fig, ax = plt.subplots(figsize=(3,3))\n",
    "f = np.array([0, 1, 2, 3])\n",
    "ax.scatter(f, np.abs(np.array(c_k)), label=r'$|c[n]|$')\n",
    "ax.set_ylim((0,20.5))\n",
    "ax.set_xticks([0, 1, 2, 3])\n",
    "ax.set_yticks([0, 5, 10, 15, 20])\n",
    "ax.set_xlabel(r'f (Hz)')\n",
    "ax.set_ylabel(r'$|c[n]|$');"
   ]
  },
  {
   "cell_type": "code",
   "execution_count": null,
   "metadata": {},
   "outputs": [],
   "source": [
    "iy_n = [idft(c_k, n) for n in range(len(c_k))]\n",
    "iy_n"
   ]
  },
  {
   "cell_type": "code",
   "execution_count": null,
   "metadata": {},
   "outputs": [],
   "source": []
  }
 ],
 "metadata": {
  "kernelspec": {
   "display_name": "Python 3.11.0 ('jbb')",
   "language": "python",
   "name": "python3"
  },
  "language_info": {
   "codemirror_mode": {
    "name": "ipython",
    "version": 3
   },
   "file_extension": ".py",
   "mimetype": "text/x-python",
   "name": "python",
   "nbconvert_exporter": "python",
   "pygments_lexer": "ipython3",
   "version": "3.11.0"
  },
  "orig_nbformat": 4,
  "vscode": {
   "interpreter": {
    "hash": "f18061db9c6ad2e7314c8e7305ce9529ebecd4bd1c96811e56fbdc23bfd84cf8"
   }
  }
 },
 "nbformat": 4,
 "nbformat_minor": 2
}
