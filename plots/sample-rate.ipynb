{
 "cells": [
  {
   "cell_type": "code",
   "execution_count": null,
   "id": "72a560b6-7906-4b53-ab9a-bebc1bd5d6bc",
   "metadata": {},
   "outputs": [],
   "source": [
    "import seaborn as sns\n",
    "import matplotlib.pyplot as plt\n",
    "import numpy as np"
   ]
  },
  {
   "cell_type": "code",
   "execution_count": null,
   "id": "5bebfd83-5606-45be-ba91-7929916480a6",
   "metadata": {},
   "outputs": [],
   "source": [
    "dpi = 300\n",
    "transparent = True\n",
    "PI = np.pi\n",
    "TWO_PI = 2*PI\n",
    "NUM = 44000\n",
    "show = False\n",
    "\n",
    "sns.set_theme('paper')\n",
    "sns.set_style(\"whitegrid\")"
   ]
  },
  {
   "cell_type": "code",
   "execution_count": null,
   "id": "8262e567-2678-452c-8a03-a7e4cc97b6e5",
   "metadata": {},
   "outputs": [],
   "source": [
    "def lineplot(x, y, filename=None, title=None, xlim=None, ylim=None, ax=None, fig=None, **kargs):\n",
    "    if not ax or not fig:\n",
    "        fig, ax = plt.subplots()\n",
    "    ax.plot(x, y, **kargs)\n",
    "    ax.set_xlabel('Time')\n",
    "    ax.set_ylabel('Amplitude')\n",
    "    ax.set_title(title)\n",
    "    if xlim:\n",
    "        ax.set_xlim(xlim)\n",
    "    if ylim:\n",
    "        ax.set_ylim(ylim)\n",
    "    if show:\n",
    "        plt.show()\n",
    "    if filename != None:\n",
    "        fig.savefig(filename, bbox_inches='tight',\n",
    "                    transparent=transparent, pad_inches=0, dpi=dpi)\n",
    "    return fig, ax"
   ]
  },
  {
   "cell_type": "code",
   "execution_count": null,
   "id": "b4a80bfa-9364-44ef-9cdf-1603fc650723",
   "metadata": {},
   "outputs": [],
   "source": [
    "x1 = np.linspace(0, 1, 10)\n",
    "y1 = np.sin(2*np.pi*x1)\n",
    "\n",
    "x2 = np.linspace(0, 1, 5)\n",
    "y2 = np.sin(2*np.pi*x2)\n",
    "\n",
    "x3 = np.linspace(0, 1, 100)\n",
    "y3 = np.sin(2*np.pi*x3)\n",
    "\n",
    "fig, ax = lineplot(x3, y3, marker = 'o', ms=3.0, linestyle = 'None')\n",
    "lineplot(x1, y1, fig=fig, ax=ax, marker = 'o', ms=5.0, linestyle = 'None')\n",
    "lineplot(x2, y2, ax= ax, fig=fig, marker = 'o', ms=7.0, linestyle = 'None', filename='../figs/sounddesign/math/sampling')"
   ]
  },
  {
   "cell_type": "code",
   "execution_count": null,
   "id": "d275ce99-c05f-4ee5-a5e7-aa2e7292a9cf",
   "metadata": {},
   "outputs": [],
   "source": [
    "f = 6\n",
    "f_s = 2\n",
    "x1 = np.linspace(0, 1, 1000)\n",
    "y1 = np.sin(2*np.pi*f*x1)\n",
    "\n",
    "x_s = np.linspace(0, 1, f_s+1)\n",
    "y_s = np.sin(2*np.pi*f*x_s)\n",
    "\n",
    "x2 = np.linspace(0, 1, 1000)\n",
    "y2 = np.sin(2*np.pi*f/2*x2)\n",
    "\n",
    "x3 = np.linspace(0, 1, 1000)\n",
    "y3 = np.sin(2*np.pi*f/3*x2)\n",
    "\n",
    "x4 = np.linspace(0, 1, 1000)\n",
    "y4 = np.sin(2*np.pi*f/6*x2)\n",
    "\n",
    "fig, ax = lineplot(x1, y1, label=r'6 Hz')\n",
    "lineplot(x2, y2, ax= ax, fig=fig, linestyle = '--', label=r'3 Hz')\n",
    "lineplot(x3, y3, ax= ax, fig=fig, linestyle = '--', label=r'2 Hz')\n",
    "lineplot(x4, y4, ax= ax, fig=fig, linestyle = '--', label=r'1 Hz')\n",
    "lineplot(x_s, y_s, ax= ax, fig=fig, marker = 'o', ms=7.0, linestyle = 'None', label='sample points');\n",
    "ax.legend();"
   ]
  },
  {
   "cell_type": "code",
   "execution_count": null,
   "id": "27cb2e67",
   "metadata": {},
   "outputs": [],
   "source": []
  },
  {
   "cell_type": "code",
   "execution_count": null,
   "id": "61e4de04",
   "metadata": {},
   "outputs": [],
   "source": []
  }
 ],
 "metadata": {
  "kernelspec": {
   "display_name": "Python 3.11.0 ('jbb')",
   "language": "python",
   "name": "python3"
  },
  "language_info": {
   "codemirror_mode": {
    "name": "ipython",
    "version": 3
   },
   "file_extension": ".py",
   "mimetype": "text/x-python",
   "name": "python",
   "nbconvert_exporter": "python",
   "pygments_lexer": "ipython3",
   "version": "3.11.0"
  },
  "vscode": {
   "interpreter": {
    "hash": "f18061db9c6ad2e7314c8e7305ce9529ebecd4bd1c96811e56fbdc23bfd84cf8"
   }
  }
 },
 "nbformat": 4,
 "nbformat_minor": 5
}
