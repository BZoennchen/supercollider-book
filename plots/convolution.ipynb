{
 "cells": [
  {
   "cell_type": "code",
   "execution_count": null,
   "metadata": {},
   "outputs": [],
   "source": [
    "import numpy as np\n",
    "import scipy.integrate as integrate\n",
    "import scipy.special as special\n",
    "from scipy.integrate import quad\n",
    "import matplotlib.pyplot as plt\n",
    "import scipy.special\n",
    "import seaborn as sns\n",
    "from scipy.integrate import cumtrapz\n",
    "\n",
    "dpi = 300\n",
    "transparent = True\n",
    "PI = np.pi\n",
    "TWO_PI = 2*PI\n",
    "NUM = 44000\n",
    "show = False\n",
    "\n",
    "sns.set_theme('talk')\n",
    "sns.set_style(\"whitegrid\")"
   ]
  },
  {
   "cell_type": "code",
   "execution_count": null,
   "metadata": {},
   "outputs": [],
   "source": [
    "x = np.linspace(0, 1.5, 1000)\n",
    "xp = np.linspace(0, 1.5, 1000*2-1)\n",
    "\n",
    "rect = lambda x: 1 if 0.25 < x < 1.25 else 0\n",
    "tri = lambda x: (-np.abs(x-0.75)+0.75)*(1/0.75)\n",
    "exp_dec = lambda x: np.exp(-5*x)\n",
    "sine = lambda x: np.sin(2*np.pi*x)\n",
    "impulse = np.zeros(len(x))\n",
    "\n",
    "for i in range(100, 1000, 100):\n",
    "    impulse[i] = 1\n",
    "\n",
    "nrows = 6\n",
    "ncols = 3\n",
    "\n",
    "fig, ax = plt.subplots(figsize=(15,nrows*2.5), nrows = nrows, ncols = 3)\n",
    "\n",
    "y = np.array([rect(val) for val in x])\n",
    "\n",
    "ax[0][0].plot(x, y)\n",
    "ax[0][1].plot(x, y)\n",
    "ax[0][2].plot(xp, np.convolve(y, y)/(len(y)/1.5))\n",
    "\n",
    "y = np.array([tri(val) for val in x])\n",
    "\n",
    "ax[1][0].plot(x, y)\n",
    "ax[1][1].plot(x, y)\n",
    "ax[1][2].plot(xp, np.convolve(y, y)/(len(y)))\n",
    "\n",
    "y1 = np.array([rect(val) for val in x])\n",
    "y2 = np.array([tri(val) for val in x])\n",
    "\n",
    "ax[2][0].plot(x, y1)\n",
    "ax[2][1].plot(x, y2)\n",
    "ax[2][2].plot(xp, np.convolve(y1, y2)/(len(y)/1.5))\n",
    "\n",
    "\n",
    "y1 = np.array([exp_dec(val) for val in x])\n",
    "y2 = np.array([rect(val) for val in x])\n",
    "\n",
    "ax[3][0].plot(x, y1)\n",
    "ax[3][1].plot(x, y2)\n",
    "ax[3][2].plot(xp, np.convolve(y1, y2))\n",
    "\n",
    "\n",
    "y1 = np.array([sine(val) for val in x])\n",
    "y2 = np.array([sine(val) for val in x])\n",
    "\n",
    "ax[4][0].plot(x, y1)\n",
    "ax[4][1].plot(x, y2)\n",
    "ax[4][2].plot(xp, np.convolve(y1, y2))\n",
    "\n",
    "\n",
    "y1 = impulse\n",
    "y2 = np.array([exp_dec(val) for val in x])\n",
    "\n",
    "ax[5][0].stem(x, y1, linefmt='-', markerfmt=' ', basefmt=' ')\n",
    "ax[5][1].plot(x, y2)\n",
    "ax[5][2].plot(xp, np.convolve(y1, y2))\n",
    "\n",
    "for row in range(nrows):\n",
    "    for col in range(ncols):\n",
    "        ax[row][col].set_xticks([])\n",
    "        ax[row][col].set_yticks([])"
   ]
  },
  {
   "cell_type": "code",
   "execution_count": null,
   "metadata": {},
   "outputs": [],
   "source": []
  }
 ],
 "metadata": {
  "kernelspec": {
   "display_name": "librosa",
   "language": "python",
   "name": "python3"
  },
  "language_info": {
   "codemirror_mode": {
    "name": "ipython",
    "version": 3
   },
   "file_extension": ".py",
   "mimetype": "text/x-python",
   "name": "python",
   "nbconvert_exporter": "python",
   "pygments_lexer": "ipython3",
   "version": "3.10.8 | packaged by conda-forge | (main, Nov 22 2022, 08:25:29) [Clang 14.0.6 ]"
  },
  "orig_nbformat": 4,
  "vscode": {
   "interpreter": {
    "hash": "fceab9a638232bbe0dcc0e1ffaa7be0cdfeb249afa99d3f2b1b085047aa2acbb"
   }
  }
 },
 "nbformat": 4,
 "nbformat_minor": 2
}
