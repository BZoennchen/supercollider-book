{
 "cells": [
  {
   "cell_type": "code",
   "execution_count": null,
   "metadata": {},
   "outputs": [],
   "source": [
    "import numpy as np\n",
    "import scipy.integrate as integrate\n",
    "import scipy.special as special\n",
    "from scipy.integrate import quad\n",
    "import matplotlib.pyplot as plt\n",
    "import scipy.special\n",
    "import seaborn as sns\n",
    "from scipy.integrate import cumtrapz\n",
    "\n",
    "dpi = 300\n",
    "transparent = True\n",
    "PI = np.pi\n",
    "TWO_PI = 2*PI\n",
    "NUM = 44000\n",
    "show = False\n",
    "\n",
    "sns.set_theme('talk')\n",
    "sns.set_style(\"whitegrid\")"
   ]
  },
  {
   "cell_type": "code",
   "execution_count": null,
   "metadata": {},
   "outputs": [],
   "source": [
    "t = np.linspace(-np.pi, np.pi, 1000)\n",
    "gain = lambda x: 2 * np.cos(x/2)\n",
    "\n",
    "fig, ax = plt.subplots(figsize=(10,5))\n",
    "ax.plot(t, gain(t), label=r'$y(t)$')\n",
    "ax.set_xticks([-np.pi, 0, np.pi])\n",
    "ax.set_xticklabels([r'$-\\pi$', r'0', r'$+\\pi$']);\n",
    "ax.set_ylabel('Gain')"
   ]
  },
  {
   "cell_type": "code",
   "execution_count": null,
   "metadata": {},
   "outputs": [],
   "source": [
    "t = np.linspace(0, np.pi, 1000)\n",
    "phase = lambda x: -x/2\n",
    "\n",
    "fig, ax = plt.subplots(figsize=(10,5))\n",
    "ax.plot(t, phase(t), label=r'$y(t)$')\n",
    "ax.set_xticks([0, np.pi/2, np.pi])\n",
    "ax.set_yticks([-np.pi/2, -np.pi/4, 0])\n",
    "ax.set_xticklabels([r'$0$', r'$\\pi/2$', r'$\\pi$']);\n",
    "ax.set_yticklabels([r'$-\\frac{\\pi}{2}$', r'$-\\frac{\\pi}{4}$', r'$0$']);\n",
    "ax.set_ylabel(r'Phase Shift $\\mathcal{\\Theta}(\\omega)$')\n",
    "ax.set_xlabel(r'$\\omega$')"
   ]
  },
  {
   "attachments": {},
   "cell_type": "markdown",
   "metadata": {},
   "source": [
    "# Brick Wall"
   ]
  },
  {
   "cell_type": "code",
   "execution_count": null,
   "metadata": {},
   "outputs": [],
   "source": [
    "f_s = 3\n",
    "f_c = 2\n",
    "t = np.linspace(0, f_s, 1000)\n",
    "gain = lambda x: 1 if x <= f_c else 0\n",
    "y = [gain(val) for val in t]\n",
    "\n",
    "fig, ax = plt.subplots(figsize=(10,5))\n",
    "ax.plot(t, y, label=r'$y(t)$')\n",
    "ax.set_xticks([0, f_c, f_s])\n",
    "ax.set_xticklabels([r'$0$', r'$f_c$', r'$f_s/2$'])\n",
    "ax.set_yticks([0, 0.5, 1, 1.5])\n",
    "ax.set_ylabel('Gain');"
   ]
  },
  {
   "cell_type": "code",
   "execution_count": null,
   "metadata": {},
   "outputs": [],
   "source": [
    "t = np.linspace(-np.pi, np.pi, 1000)\n",
    "gain = lambda x, alpha: (1-np.abs(alpha)) * (1+(alpha/(np.abs(alpha) -1))*np.exp(-1j*x))\n",
    "\n",
    "fig, ax = plt.subplots(figsize=(10,5))\n",
    "ax.plot(t, np.abs(gain(t, 0.5)), label=r'$\\alpha = 0.5$')\n",
    "ax.plot(t, np.abs(gain(t, 0.8)), label=r'$\\alpha = 0.8$')\n",
    "ax.plot(t, np.abs(gain(t, -0.5)), label=r'$\\alpha = -0.5$')\n",
    "ax.plot(t, np.abs(gain(t, -0.8)), label=r'$\\alpha = -0.8$')\n",
    "ax.set_xticks([-np.pi, 0, np.pi])\n",
    "ax.set_xticklabels([r'$-\\pi$', r'0', r'$+\\pi$']);\n",
    "ax.set_ylabel(r'Gain $G(\\omega)$')\n",
    "ax.set_xlabel(r'$\\omega$ $(2\\pi f)$')\n",
    "ax.legend();"
   ]
  },
  {
   "cell_type": "code",
   "execution_count": null,
   "metadata": {},
   "outputs": [],
   "source": [
    "t = np.linspace(-np.pi, np.pi, 1000)\n",
    "gain = lambda x, alpha: (1-np.abs(alpha)) / (1+alpha*np.exp(-1j*x))\n",
    "\n",
    "fig, ax = plt.subplots(figsize=(10,5))\n",
    "ax.plot(t, np.abs(gain(t, 0.5)), label=r'$\\alpha = 0.5$')\n",
    "ax.plot(t, np.abs(gain(t, 0.8)), label=r'$\\alpha = 0.8$')\n",
    "ax.plot(t, np.abs(gain(t, -0.5)), label=r'$\\alpha = -0.5$')\n",
    "ax.plot(t, np.abs(gain(t, -0.8)), label=r'$\\alpha = -0.8$')\n",
    "ax.set_xticks([-np.pi, 0, np.pi])\n",
    "ax.set_xticklabels([r'$-\\pi$', r'0', r'$+\\pi$']);\n",
    "ax.set_ylabel(r'Gain $G(\\omega)$')\n",
    "ax.set_xlabel(r'$\\omega$ $(2\\pi f)$')\n",
    "ax.legend();"
   ]
  },
  {
   "cell_type": "code",
   "execution_count": null,
   "metadata": {},
   "outputs": [],
   "source": []
  }
 ],
 "metadata": {
  "kernelspec": {
   "display_name": "librosa",
   "language": "python",
   "name": "python3"
  },
  "language_info": {
   "codemirror_mode": {
    "name": "ipython",
    "version": 3
   },
   "file_extension": ".py",
   "mimetype": "text/x-python",
   "name": "python",
   "nbconvert_exporter": "python",
   "pygments_lexer": "ipython3",
   "version": "3.10.8 | packaged by conda-forge | (main, Nov 22 2022, 08:25:29) [Clang 14.0.6 ]"
  },
  "orig_nbformat": 4,
  "vscode": {
   "interpreter": {
    "hash": "fceab9a638232bbe0dcc0e1ffaa7be0cdfeb249afa99d3f2b1b085047aa2acbb"
   }
  }
 },
 "nbformat": 4,
 "nbformat_minor": 2
}
