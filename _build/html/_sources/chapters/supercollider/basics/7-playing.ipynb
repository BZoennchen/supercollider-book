{
 "cells": [
  {
   "cell_type": "markdown",
   "id": "ea902588",
   "metadata": {},
   "source": [
    "# Playing Sound\n",
    "\n",
    "Let us create the most simple sound possible: the sound of a sine wave.\n",
    "First, we define a function that returns a so-called unit generator [UGen](sec-ugens) that starts when we call ``play()``.\n",
    "In fact ``play()`` is shorthand for\n",
    "\n",
    "1. transforming our [UGen](sec-ugens) into a full [SynthDef](sec-synths) (synth definition), \n",
    "2. adding it to the audio server and \n",
    "3. executing it by generating a synth on it.\n",
    "\n",
    "```{admonition} Protect your ears!\n",
    ":name: attention-protect-your-ears\n",
    ":class: attention\n",
    "[SC](https://supercollider.github.io/) will not protect you from any wrongdoing. \n",
    "It will play the sound you defined, and if this sound can hurt your ears, you have to be sure to protect them.\n",
    "It is good practice to use headphones far away from your ears if you do not know what sound to expect!\n",
    "```\n",
    "\n",
    "There are hundreds of different [UGens](sec-ugens).\n",
    "Basically, they spit out real numbers over time. \n",
    "For example, ``SineOsc`` samples a sine wave.\n",
    "\n",
    "```isc\n",
    "~sine = {arg freq=200; SinOsc.ar(freq, mul: 0.2)};\n",
    "~sineplay = ~sine.play();\n",
    "```\n",
    "\n",
    "If we execute this code, we get a warning that the server ``localhost`` is not running.\n",
    "We have to boot the real-time audio server **scsynth** first:\n",
    "\n",
    "```isc\n",
    "Server.local.boot;  // boots the local server on your machine\n",
    "//s.boot;           // is equivalent\n",
    "~sine = {arg freq=200; SinOsc.ar(freq, mul: 0.2)};\n",
    "~sineplay = ~sine.play();\n",
    "```"
   ]
  },
  {
   "cell_type": "code",
   "execution_count": 1,
   "id": "0d630e78",
   "metadata": {
    "tags": [
     "remove-input"
    ]
   },
   "outputs": [
    {
     "data": {
      "text/html": [
       "\n",
       "<audio  controls=\"controls\" >\n",
       "    <source src=\"data:audio/mpeg;base64,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\" type=\"audio/mpeg\" />\n",
       "    Your browser does not support the audio element.\n",
       "</audio>\n"
      ],
      "text/plain": [
       "<IPython.lib.display.Audio object>"
      ]
     },
     "execution_count": 1,
     "metadata": {},
     "output_type": "execute_result"
    }
   ],
   "source": [
    "import IPython.display as ipd\n",
    "audio_path = '../../../sounds/sine-wave.mp3'\n",
    "ipd.Audio(audio_path)"
   ]
  },
  {
   "cell_type": "markdown",
   "id": "47c8aa01",
   "metadata": {},
   "source": [
    "``~sine`` is a function that returns ``SinOsc.ar(freq, mul: 0.2)`` which is a ``BinaryOpUGen``.\n",
    "\n",
    "```{admonition} Sound termination\n",
    ":name: attention-sound-termination\n",
    ":class: attention\n",
    "To terminate all sound press ``CMD`` + ``.``. **This might be the most important shortcut of all.**\n",
    "```\n",
    "\n",
    "If we press ``CMD`` + ``i`` while the curser is at ``play()`` and we select the implementation for ``Function``, we can see lookup what ``~sine.play()`` actually does:\n",
    "\n",
    "```isc\n",
    "play { arg target, outbus = 0, fadeTime = 0.02, addAction=\\addToHead, args;\n",
    "    var def, synth, server, bytes, synthMsg;\n",
    "    target = target.asTarget;\n",
    "    server = target.server;\n",
    "    if(server.serverRunning.not) {\n",
    "        (\"server '\" ++ server.name ++ \"' not running.\").warn; ^nil\n",
    "    };\n",
    "    def = this.asSynthDef(\n",
    "        fadeTime:fadeTime,\n",
    "        name: SystemSynthDefs.generateTempName\n",
    "    );\n",
    "    synth = Synth.basicNew(def.name, server);\n",
    "        // if notifications are enabled on the server,\n",
    "        // use the n_end signal to remove the temp synthdef\n",
    "    if(server.notified) {\n",
    "        OSCFunc({\n",
    "            server.sendMsg(\\d_free, def.name);\n",
    "        }, '/n_end', server.addr, argTemplate: [synth.nodeID]).oneShot;\n",
    "    };\n",
    "    synthMsg = synth.newMsg(target, [\\i_out, outbus, \\out, outbus] ++ args, addAction);\n",
    "    def.doSend(server, synthMsg);\n",
    "    ^synth\n",
    "}\n",
    "```\n",
    "\n",
    "``play()`` constructs a new ``SynthDef``, adds it to the server, and generates a synth which is returned.\n",
    "The ``fadeTime`` makes sure that the sound ramps up over a certain amount of seconds.\n",
    "For example, we can increase ``fadeTime``:\n",
    "\n",
    "```isc\n",
    "~sineplay = ~sine.play(fadeTime: 2.0);\n",
    "```\n",
    "\n",
    "``play`` comes in handy if we wanna just try something out -- if we want to explore sounds in a quick and dirty way.\n",
    "For complex synth, we will define our own ``SynthDef``."
   ]
  }
 ],
 "metadata": {
  "jupytext": {
   "formats": "md:myst",
   "text_representation": {
    "extension": ".md",
    "format_name": "myst"
   }
  },
  "kernelspec": {
   "display_name": "Python 3",
   "language": "python",
   "name": "python3"
  },
  "language_info": {
   "codemirror_mode": {
    "name": "ipython",
    "version": 3
   },
   "file_extension": ".py",
   "mimetype": "text/x-python",
   "name": "python",
   "nbconvert_exporter": "python",
   "pygments_lexer": "ipython3",
   "version": "3.10.9"
  },
  "source_map": [
   11,
   50,
   55
  ]
 },
 "nbformat": 4,
 "nbformat_minor": 5
}