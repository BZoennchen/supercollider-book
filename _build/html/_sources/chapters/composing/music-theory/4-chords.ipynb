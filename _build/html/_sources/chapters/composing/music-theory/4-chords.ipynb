{
 "cells": [
  {
   "cell_type": "code",
   "execution_count": 1,
   "id": "d540b076",
   "metadata": {
    "tags": [
     "remove-input"
    ]
   },
   "outputs": [],
   "source": [
    "from music21 import *\n",
    "from IPython.display import Image as img\n",
    "from PIL import Image"
   ]
  },
  {
   "cell_type": "markdown",
   "id": "d0fd8bfb",
   "metadata": {},
   "source": [
    "(sec-chords)=\n",
    "# Chords\n",
    "\n",
    ">Two tones sounding together are usually termed an interval, while three or more tones are called a chord. -- George T. Jones\n",
    "\n",
    "An interval is defined by exaclty two notes.\n",
    "Adding at least one note and letting them all sound together makes a chord.\n",
    "Though, since instances of any given note in different octaves may be taken as the same note, it is more precise for the purposes of analysis to speak of distinct *pitch classes*.\n",
    "Furthermore, as three notes are needed to define any common chord, three is often taken as the minimum number of notes that form a definite chord.\n",
    "\n",
    "## Triads\n",
    "\n",
    "The most prominant chords called *triads* consist of three notes\n",
    "They are called *triads* and finding a harmonic sounding *triad* can be achieved by adding **ever other note** in a scale starting from some *root* also called *bass note* (if the chord is in root position).\n",
    "In other words, chords are fully defined by the used *key* and a combination of degrees (*scale note positions*).\n",
    "If $d$ is the degree of the first note then the degree sequence\n",
    "\n",
    "$$(d, d+2, d+4)$$\n",
    "\n",
    "constitute all natural *triads* within a scale.\n",
    "For example, for a major scale in the key of C (all white key on a piano),\n",
    "\n",
    "$$(\\text{E4, G4, B4})$$\n",
    "\n",
    "constitutes the **iii-minor chord** within this *key*.\n",
    "\n",
    "Similar to [diatonic scale](sec-diatonic-scale) where notes are numbered from one to seven, we also use roman numerals (I, ii, iii, IV, V, vi, vii) to denote the position of the chord's *root* with respect to the key we are in.\n",
    "In **C** we have C-D-E-F-G-A-B, therefore, E-G-B is numbered by iii and it is a **minor chrod** since E-G is a **minor third interval** and not a **major third interval** like G-B, see section [Intervals](sec-intervals).\n",
    "\n",
    "We use capitalized roman numerals if we refer to a major chord, otherwise we use lowercase numerals.\n",
    "The numbers translate to the degrees of the key.\n",
    "In the following first table I use the major scale in the key of A:\n",
    "\n",
    "| A Major Key | I     | ii    | iii   | IV    | V     | vi    | vii           |\n",
    "| ----------- | ----- | ----- | ----- | ----- | ----- | ----- | ------------- |\n",
    "| Quality     | major | minor | minor | major | major | minor | diminished    |\n",
    "| Intervals   | 4,3   | 3,4   | 3,4   | 4,3   | 4,3   | 3,4   | 3,3           |\n",
    "| Root        | A     | B     | C#    | D     | E     | F#    | G#            |\n",
    "\n",
    "In the second table I use the minor scale in the key of A:\n",
    "\n",
    "| A Minor Key | i     | ii         | III   | iv    | v     | VI    | VII   |\n",
    "| ----------- | ----- | ---------- | ----- | ----- | ----- | ----- | ------|\n",
    "| Quality     | minor | diminished | major | minor | minor | major | major |\n",
    "| Intervals   | 3,4   | 3,3        | 4,3   | 3,4   | 3,4   | 4,3   | 4,3   |\n",
    "| Root        | A     | B          | C     | D     | E     | F     | G     |\n",
    "\n",
    "Following the formula, we call (B, D, F#) the *B minor chord* and (D, F, A) the *D major chord*, regardless of the scale we are using.\n",
    "However, we need the scale to determine the tonal role of each chord (and note).\n",
    "\n",
    "Note that all *triads within a key* are unique and that all major and minor chords contain a **perfect fifth**.\n",
    "A major chord is defined an interval sequence (4,3) (in semitones) and a minor chord is defined by an interval sequence (3,4).\n",
    "The deminished is defined by (3,3), it contains a **[diminished fifths / tritone](sec-tritone)** instead of a **peferfect fifhts**.\n",
    "\n",
    "If we look at all resulting intervals for the major and minor chord we get: 3 semitones (**minor third**), 4 semitones **major third** and 7 semitones (**perfect fifth**).\n",
    "In frequencies of an equally tempered octave this equates to \n",
    "\n",
    "\\begin{equation*}\n",
    "\\begin{split}\n",
    "2^{3/12} &\\approx 1.189 \\approx 1.20,  \\quad \\text{minor third}\\\\\n",
    "2^{4/12} &\\approx 1.259 \\approx 1.25, \\quad \\text{major third}\\\\\n",
    "2^{7/12} &\\approx 1.498 \\approx 1.50,  \\quad \\text{perfect fifth.}\n",
    "\\end{split}\n",
    "\\end{equation*}\n",
    "\n",
    "All these ratios are relatively simple; thus, the tone is consonant. \n",
    "\n",
    "For the diminished chord, we get two intervals of 3 semitones (**minor third**) and an interval of 6 semitones (**minor seventh**) which is regarded as very dissonant.\n",
    "In frequencies of an equally tempered octave this equates to \n",
    "\n",
    "\\begin{equation*}\n",
    "\\begin{split}\n",
    "2^{3/12} &\\approx 1.1890 \\approx 1.200, \\quad \\text{minor third}\\\\\n",
    "2^{6/12} &\\approx 1.4142 \\approx 1.414, \\quad \\text{tritone.}\n",
    "\\end{split}\n",
    "\\end{equation*}\n",
    "\n",
    "Note that we can categorize the chord into major, minor, or diminished solely by the *interval sequence*.\n",
    "A chord in **root position** is fully defined by interval sequence and its first note, called **root**.\n",
    "Consequently, we do not have to know the *key*.\n",
    "We can name the chord by its **root** and the *interval sequence*, e.g., B minor chord (**Bm**) is equal to (B, D, F#).\n",
    "Musicians use only the note symbol, such as **F**, to denote the major chord of that note, e.g., **F major chord**.\n",
    "This can be confusing because scales and keys are denoted similarily.\n",
    "\n",
    "## Inversion\n",
    "\n",
    "Changing the order of the notes within a chord by changing their octaves is called *inversion*.\n",
    "Since the lowest note within a chord is important with respect to the tonality of the chord, moving the second note down is called first inversion while making the third note the **bass note** is called second inversion.\n",
    "Of course, we can also move the *root* up instead.\n",
    "\n",
    "Because of the asymetric propertie of major and minor scales, inversion changes the **quality** of the chord!\n",
    "\n",
    "For example, E-G-B is **Em**, i.e. a (3, 4) semitones interval which is a **minor third** and a **major third**.\n",
    "Its first inversion G-B-E results in a (4, 5) semitones interval which is a **major third** and a **minor sixth**.\n",
    "\n",
    "Its second inversion B-E-G results in (5, 3) whic is a **minor sixth** and a **minor third**.\n",
    "The following staff notation shows three chords from left to right: E-G-B in *root position*, *first inversion* and *second inversion*."
   ]
  },
  {
   "cell_type": "code",
   "execution_count": 2,
   "id": "ef280bda",
   "metadata": {
    "tags": [
     "remove-input"
    ]
   },
   "outputs": [
    {
     "data": {
      "image/png": "[encoded data removed]",
      "text/plain": [
       "<PIL.Image.Image image mode=RGBA size=330x140>"
      ]
     },
     "metadata": {
      "filenames": {
       "image/png": "/Users/bzoennchen/repositories/GitHub/supercollider-book/_build/jupyter_execute/chapters/composing/music-theory/4-chords_2_0.png"
      }
     },
     "output_type": "display_data"
    }
   ],
   "source": [
    "#E-G-B\n",
    "root = chord.Chord(['E4', 'G4', 'B4'], duration=duration.Duration(2.0))\n",
    "inversion1 = chord.Chord(['G4', 'B4', 'E5'], duration=duration.Duration(2.0))\n",
    "inversion2 = chord.Chord(['B4', 'E5', 'G5'], duration=duration.Duration(2.0))\n",
    "s = stream.Stream()\n",
    "s.append(root)\n",
    "s.append(inversion1)\n",
    "s.append(inversion2)\n",
    "path = s.write('musicxml.png')\n",
    "im = Image.open(path)\n",
    "# (left, top, right, bottom)\n",
    "im = im.crop((170, 310, 500, 450))\n",
    "display(im)"
   ]
  },
  {
   "cell_type": "markdown",
   "id": "92eef376",
   "metadata": {},
   "source": [
    "## Tonality\n",
    "\n",
    "By relating chords via a *chord progression* they can have different types of emotional effects across a piece of music."
   ]
  }
 ],
 "metadata": {
  "jupytext": {
   "formats": "md:myst",
   "text_representation": {
    "extension": ".md",
    "format_name": "myst"
   }
  },
  "kernelspec": {
   "display_name": "Python 3",
   "language": "python",
   "name": "python3"
  },
  "language_info": {
   "codemirror_mode": {
    "name": "ipython",
    "version": 3
   },
   "file_extension": ".py",
   "mimetype": "text/x-python",
   "name": "python",
   "nbconvert_exporter": "python",
   "pygments_lexer": "ipython3",
   "version": "3.10.9"
  },
  "source_map": [
   13,
   18,
   118,
   133
  ]
 },
 "nbformat": 4,
 "nbformat_minor": 5
}