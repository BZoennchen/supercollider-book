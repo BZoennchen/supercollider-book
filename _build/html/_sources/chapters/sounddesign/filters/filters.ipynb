{
 "cells": [
  {
   "cell_type": "code",
   "execution_count": 1,
   "id": "40e742af",
   "metadata": {
    "tags": [
     "remove-input"
    ]
   },
   "outputs": [],
   "source": [
    "import numpy as np\n",
    "import scipy.integrate as integrate\n",
    "import scipy.special as special\n",
    "from scipy.integrate import quad\n",
    "import matplotlib.pyplot as plt\n",
    "import scipy.special\n",
    "import seaborn as sns\n",
    "from scipy.integrate import cumtrapz\n",
    "\n",
    "dpi = 300\n",
    "transparent = True\n",
    "PI = np.pi\n",
    "TWO_PI = 2*PI\n",
    "NUM = 44000\n",
    "show = False\n",
    "\n",
    "sns.set_theme('talk')\n",
    "sns.set_style(\"whitegrid\")"
   ]
  },
  {
   "cell_type": "markdown",
   "id": "f05798d3",
   "metadata": {},
   "source": [
    "(sec-filters)=\n",
    "# Subtractive Synthesis and Filters\n",
    "\n",
    "In [additive synthesis](sec-additive-synthesis) we start with silence and add more and more simple wave forms together to achieve a complex sound.\n",
    "*Subtractive synthesis* works the opposite.\n",
    "We start with rich / complex signal, such as *white noise* and apply *filters* to reduce, remove, or even amplify the amplitude of certain frequency bands.\n",
    "Consequently, if we talk about subtractive synthesis, we have to talk about **filters**!\n",
    "\n",
    ">Any medium through which the music signal passes, whatever its form, can be regarded as a filter. \n",
    "However, we do not usually think of something as a filter unless it can modify the sound in some way. \n",
    "For example, speaker wire is not considered a filter, but the speaker is (unfortunately).\n",
    "-- Julius O. Smith\n",
    "\n",
    "A *digital filter* is just a filter that operates on digital signals, such as sound represented inside a computer.\n",
    "Because of how we normally interprete the term, *filter* our fundamental understanding of filters might be that they make parts of the signal quieter -- which is not the whole story.\n",
    "With respect to the frequency domain, filters have a \n",
    "\n",
    "1. **amplitude frequency response**, and\n",
    "2. **phase response**.\n",
    "\n",
    "If a filter sharply sets the a specific range of frequencies to zero and let the rest untouched it is called *brick wall*.\n",
    "For example, we could compute the [Fourier transform](def-fourier-transform-exp) of a signal and then multiply frequency in that range with zero.\n",
    "For computational complexity and buffering reasons, such ideal filters are rahter unpractical for real-time use.\n",
    "Therefore, most filters work differently.\n",
    "They reduce or strengthen the power of certain frequencies.\n",
    "\n",
    "```{admonition} Filtering and the Fourier transform\n",
    ":name: remark-filtering-and-convolution\n",
    ":class: remark\n",
    "\n",
    "Filtering can be achieved by multiplication in the spectural domain and by convolution in the time domain.\n",
    "\n",
    "```\n",
    "\n",
    "For example, if we want to completely filter out all high frequencies up to a *cutoff frequency* $f_c$ without touching the low frequencies $(f \\leq f_c)$, our ideal *brick wall filter* would have an amplitude frequency response that looks like the following plot."
   ]
  },
  {
   "cell_type": "code",
   "execution_count": 2,
   "id": "5c2e4533",
   "metadata": {
    "tags": [
     "remove-input"
    ]
   },
   "outputs": [
    {
     "data": {
      "image/png": "[encoded data removed]",
      "text/plain": [
       "<Figure size 1000x500 with 1 Axes>"
      ]
     },
     "metadata": {
      "filenames": {
       "image/png": "/Users/bzoennchen/repositories/GitHub/supercollider-book/_build/jupyter_execute/chapters/sounddesign/filters/filters_2_0.png"
      }
     },
     "output_type": "display_data"
    }
   ],
   "source": [
    "f_s = 3\n",
    "f_c = 2\n",
    "t = np.linspace(0, f_s, 1000)\n",
    "gain = lambda x: 1 if x <= f_c else 0\n",
    "y = [gain(val) for val in t]\n",
    "\n",
    "fig, ax = plt.subplots(figsize=(10,5))\n",
    "ax.plot(t, y, label=r'$y(t)$')\n",
    "ax.set_xticks([0, f_c, f_s])\n",
    "ax.set_xticklabels([r'$0$', r'$f_c$', r'$f_s/2$'])\n",
    "ax.set_yticks([0, 0.5, 1, 1.5])\n",
    "ax.set_xlabel('Frequency $f$');\n",
    "ax.set_ylabel(r'Gain $G(f)$');"
   ]
  },
  {
   "cell_type": "markdown",
   "id": "51ebfb0f",
   "metadata": {},
   "source": [
    "Such *ideal filter* is the simplest lowpass filter.\n",
    "The gain is 1 in the *passband*, which pans frequencies from 0 Hz to the *cutoff frequency* $f_c$ Hz, and its gain is 0 in the *stopband* (all frequencies above $f_c$).\n",
    "The output spectrum is obtained by multiplying the input spectrum by the amplitude response of the filter.\n",
    "\n",
    "Apart from changing the level of specific frequencies, filters often change the phase of the signal, e.g., $\\sin(2\\pi t)$ is transformed to $\\sin(2\\pi t + 0.5\\pi)$.\n",
    "Some filters do primarily apply such period shifts and we might not think of them as filters.\n",
    "For example, the *allpass filter* does passes all frequencies untouched but attunes the phases.\n",
    "\n",
    "*Lowpass filters* are used everywhere because they can smoothen the harshness of a sound.\n",
    "A lot of filters allow support a feedback cycle, i.e., the output signal of the filter goes back into the filter.\n",
    "Each time the signal is fed into the filter, its level gets reduced such that the feedback eventually comes to an end.\n",
    "Such feedback can be used to synthesis reverberation.\n",
    "In combination with an *impulse* (e.g. [Impuse](https://doc.sccode.org/Classes/Impulse.html)) filters can be used to contruct surprising effects.\n",
    "And with ressonance, filters can add many aspects to the timbre of a sound.\n",
    "\n",
    "[SuperCollider](https://supercollider.github.io/) offers a large variety of filters.\n",
    "Execute\n",
    "\n",
    "```isc\n",
    "Filter.dumpClassSubtree;\n",
    "```\n",
    "\n",
    "to print a list of all filters to the post window.\n",
    "\n",
    "In summary, filters and substractive synthesis are inseperable.\n",
    "\n",
    "+ We can use static filters to emphasize specific frequencies.\n",
    "+ We can use static filters to create formants in a sound and imitate the characteristics of the human voice or traditional acoustic instruments.\n",
    "+ A [resonance filter](sec-resonance) with a moderate *resonance bandwidth* with a cutoff frequency that tracks the pitch can create a characteristic quality that remains tonally consistent as we play the keyboard.\n",
    "+ For some *resonance filters*, if we decrease the *resonance bandwidth*, we enter an area where the filter is at the brick of self-oscillation. This creates a distinctive distortion that can be a perfect starting point.\n",
    "+ If we decrease the *resonance bandwidth* even further, the filter will become a sine wave generator in its own right. In theory, no input signal is passed at this point, but few filters altogether remove all the signal, and the result is a tortured sound that has extensive uses in modern music.\n",
    "\n",
    "In analog synthesis, filters are the defining element of a synthesizer.\n",
    "They are also crucial in digital synthesis, and if you are into creative synthesis, your sound generation will depend upon what you have and what you do with it."
   ]
  }
 ],
 "metadata": {
  "jupytext": {
   "formats": "md:myst",
   "text_representation": {
    "extension": ".md",
    "format_name": "myst"
   }
  },
  "kernelspec": {
   "display_name": "Python 3",
   "language": "python",
   "name": "python3"
  },
  "language_info": {
   "codemirror_mode": {
    "name": "ipython",
    "version": 3
   },
   "file_extension": ".py",
   "mimetype": "text/x-python",
   "name": "python",
   "nbconvert_exporter": "python",
   "pygments_lexer": "ipython3",
   "version": "3.10.9"
  },
  "source_map": [
   13,
   33,
   71,
   86
  ]
 },
 "nbformat": 4,
 "nbformat_minor": 5
}