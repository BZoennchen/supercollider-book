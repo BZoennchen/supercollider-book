{
 "cells": [
  {
   "cell_type": "markdown",
   "id": "6aad0bf0",
   "metadata": {},
   "source": [
    "# Wavetable Synthesis\n",
    "\n",
    "The principle of *wavetable synthesis* is to exchange computation for memory by pre-computing the complete cycle of a specific waveform, save the values in a buffer and then read values from the buffer instead of computing them on the fly.\n",
    "\n",
    "Most SC unit generators are actually wavetables!\n",
    "If you want certain harmonics in a signal but for each frequency you use the same envelope, then you can save a lot of performance by using a wavetable instead.\n",
    "\n",
    "Creating a wavetable in SuperCollider is easy.\n",
    "First we need to allocate a [Buffer](https://doc.sccode.org/Classes/Buffer.html) on the server. \n",
    "Then we have to write the one period of our waveform into the buffer.\n",
    "Then we can use the buffer to read from it at different frequencies.\n",
    "\n",
    "For example, the unit generator [Osc](https://doc.sccode.org/Classes/Osc.html) is able to write out values from the buffer into the output channel.\n",
    "The number of elements in a wavetalbe has to be a power of 2.\n",
    "\n",
    "First we create a **client-side** [Signal](https://doc.sccode.org/Classes/Signal.html) containing a sinewave.\n",
    "\n",
    "```isc\n",
    "~sig = Signal.sineFill(size: 1024, amplitudes: [1], phases: [0]);\n",
    "```\n",
    "\n",
    "Before we can use the signal, we have to convert it into a wavetable format.\n",
    "\n",
    "```isc\n",
    "~wt = ~sig.asWavetable;\n",
    "```\n",
    "\n",
    "Then we allocate a **server-side** buffer and load it with the wavetalbe.\n",
    "\n",
    "```{admonition} Wavetalbe Buffer Size\n",
    ":name: attention-wavetable-buffer\n",
    ":class: attention\n",
    "The size of a *buffer* containing a wavetalbe with $n$ signalpoints, has to be of size $2n$.\n",
    "```\n",
    "\n",
    "```isc\n",
    "(\n",
    "b = Buffer.alloc(s, 2048);\n",
    "b.loadCollection(~wt);\n",
    ")\n",
    "```\n",
    "\n",
    "Finally, we can play it, i.e., the buffer.\n",
    "\n",
    "```isc\n",
    "{Osc.ar(b)}.play;\n",
    "```"
   ]
  },
  {
   "cell_type": "code",
   "execution_count": 1,
   "id": "cca44cf2",
   "metadata": {
    "tags": [
     "remove-input"
    ]
   },
   "outputs": [
    {
     "ename": "NameError",
     "evalue": "name 'ipd' is not defined",
     "output_type": "error",
     "traceback": [
      "\u001b[0;31m---------------------------------------------------------------------------\u001b[0m",
      "\u001b[0;31mNameError\u001b[0m                                 Traceback (most recent call last)",
      "Cell \u001b[0;32mIn[1], line 2\u001b[0m\n\u001b[1;32m      1\u001b[0m audio_path \u001b[38;5;241m=\u001b[39m \u001b[38;5;124m'\u001b[39m\u001b[38;5;124m../../sounds/wavetable-sine.mp3\u001b[39m\u001b[38;5;124m'\u001b[39m\n\u001b[0;32m----> 2\u001b[0m \u001b[43mipd\u001b[49m\u001b[38;5;241m.\u001b[39mAudio(audio_path)\n",
      "\u001b[0;31mNameError\u001b[0m: name 'ipd' is not defined"
     ]
    }
   ],
   "source": [
    "audio_path = '../../sounds/wavetable-sine.mp3'\n",
    "ipd.Audio(audio_path)"
   ]
  },
  {
   "cell_type": "markdown",
   "id": "697ec97b",
   "metadata": {},
   "source": [
    "Now, let us define a signal with many harmonics.\n",
    "And in fact, let us use another method to directly initialize a buffer.\n",
    "\n",
    "```isc\n",
    "(\n",
    "var amps = 1.0/[1,3,5,7,9,11,13,15,17];\n",
    "b = Buffer.alloc(\n",
    "    server: s,\n",
    "    numFrames: 512, \n",
    "    numChannels: 1,\n",
    "    completionMessage: {|z| z.sine1Msg(amps: amps);},\n",
    ");\n",
    ")\n",
    "\n",
    "{Osc.ar(b, freq: 200)!2}.play;\n",
    "```\n",
    "\n",
    "Nothing stops us from constructing very complex waveforms:\n",
    "\n",
    "```isc\n",
    "(\n",
    "var n = 16;\n",
    "b.sine3(\n",
    "    freqs: ({exprand(0.75, 30)}!n).sort,\n",
    "    amps: ({exprand(0.05, 0.85)}!n).sort.reverse,\n",
    "    phase:{rrand(0, 2*pi)}!n\n",
    ");\n",
    ")\n",
    "\n",
    "{Osc.ar(b, freq: MouseX.kr(10,1000,1)) * [1, 2.01] * 0.4}.play;\n",
    "```\n",
    "\n",
    "Since we can transform an envelope [Env](https://doc.sccode.org/Classes/Env.html) into a [Signal](https://doc.sccode.org/Classes/Signal.html) and a signal into a [Wavetable](https://doc.sccode.org/Classes/Wavetable.html), we can construct our waveform using an envelople!\n",
    "\n",
    "Let us create some crazy wavetables!\n",
    "\n",
    "```isc\n",
    "// increase the buffer size\n",
    "b = Buffer.alloc(s, 2048);\n",
    "\n",
    "(\n",
    "var env, n = 16;\n",
    "env = Env(\n",
    "    levels: ({rrand(0.0, 1.0)}!(n-1) * [1, -1]).scramble,\n",
    "    times: {exprand(1,15)}!n,\n",
    "    curve: {rrand(-10, 10)}!n,\n",
    ");\n",
    "b.loadCollection(env.asSignal(1024).asWavetable);\n",
    ")\n",
    "\n",
    "{LeakDC.ar(Osc.ar(b, freq: MouseX.kr(10,1000,1)) * [1, 2.01] * 0.4)}.play;\n",
    "```\n",
    "\n",
    "Since the waveform might be heavily biased towards the positive or negative, we could use [LeakDC](https://doc.sccode.org/Classes/LeakDC.html) to center it at the x-axis.\n",
    "\n",
    "Another really useful way to create a signal is the ``waveFill`` method of an instance of a signal.\n",
    "Since it is an instance method, we first have to create a signal.\n",
    "\n",
    "```isc\n",
    "(\n",
    "var sig;\n",
    "sig = Signal.newClear(1024);\n",
    "sig.waveFill({\n",
    "    // x (0 to 2pi), y_old (old value here 0), index\n",
    "    arg x, y_old, i;\n",
    "\tvar y_new = (sin(x**2))**2*3;\n",
    "\ty_new = y_new.fold(-1, 1);\n",
    "\ty_new\n",
    "}, 0, 2*pi);\n",
    "sig.plot;\n",
    ")\n",
    "```"
   ]
  }
 ],
 "metadata": {
  "jupytext": {
   "formats": "md:myst",
   "text_representation": {
    "extension": ".md",
    "format_name": "myst"
   }
  },
  "kernelspec": {
   "display_name": "Python 3",
   "language": "python",
   "name": "python3"
  },
  "language_info": {
   "codemirror_mode": {
    "name": "ipython",
    "version": 3
   },
   "file_extension": ".py",
   "mimetype": "text/x-python",
   "name": "python",
   "nbconvert_exporter": "python",
   "pygments_lexer": "ipython3",
   "version": "3.10.9"
  },
  "source_map": [
   11,
   61,
   65
  ]
 },
 "nbformat": 4,
 "nbformat_minor": 5
}